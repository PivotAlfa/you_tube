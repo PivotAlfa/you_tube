{
 "cells": [
  {
   "cell_type": "markdown",
   "id": "a80ada05",
   "metadata": {},
   "source": [
    "<center>   <h1><b>Statistics (cdf, ppf, prf) t_test, z_test </b> </h1></center>"
   ]
  },
  {
   "cell_type": "code",
   "execution_count": 1,
   "id": "18f07b26",
   "metadata": {},
   "outputs": [],
   "source": [
    "import pandas as pd\n",
    "import numpy as np\n",
    "import matplotlib.pyplot as plt\n",
    "import seaborn as sns"
   ]
  },
  {
   "cell_type": "code",
   "execution_count": 2,
   "id": "55a46f43",
   "metadata": {},
   "outputs": [],
   "source": [
    "t_mean = 18.7 # given\n",
    "t_std = 5.8 # given\n",
    "n_trips = 2000 #given"
   ]
  },
  {
   "cell_type": "markdown",
   "id": "5c1adca4",
   "metadata": {},
   "source": [
    "#### Question 1"
   ]
  },
  {
   "cell_type": "code",
   "execution_count": 3,
   "id": "7ef5a6ae",
   "metadata": {},
   "outputs": [],
   "source": [
    "\n",
    "#Asked: should earn over 20"
   ]
  },
  {
   "cell_type": "code",
   "execution_count": 4,
   "id": "1ffd50f6",
   "metadata": {},
   "outputs": [],
   "source": [
    "import scipy.stats as stats"
   ]
  },
  {
   "cell_type": "code",
   "execution_count": 5,
   "id": "6a48c3e9",
   "metadata": {},
   "outputs": [
    {
     "data": {
      "image/png": "[encoded data removed]",
      "text/plain": [
       "<Figure size 432x288 with 1 Axes>"
      ]
     },
     "metadata": {
      "needs_background": "light"
     },
     "output_type": "display_data"
    }
   ],
   "source": [
    "x = np.linspace(t_mean-3*t_std, t_mean+3*t_std, 100)\n",
    "plt.plot(x, stats.norm.pdf(x, t_mean, t_std));\n",
    "plt.plot([20,20,20],[0,0.01,0.07]);"
   ]
  },
  {
   "cell_type": "markdown",
   "id": "cce25a4c",
   "metadata": {},
   "source": [
    "### stats.norm.cdf"
   ]
  },
  {
   "cell_type": "code",
   "execution_count": 6,
   "id": "4b56fcc9",
   "metadata": {},
   "outputs": [
    {
     "data": {
      "text/plain": [
       "0.5886750107430825"
      ]
     },
     "execution_count": 6,
     "metadata": {},
     "output_type": "execute_result"
    }
   ],
   "source": [
    "#The formula to find the left area of the curve until 20\n",
    "stats.norm.cdf(20, t_mean, t_std)"
   ]
  },
  {
   "cell_type": "code",
   "execution_count": 7,
   "id": "eb1927e3",
   "metadata": {},
   "outputs": [
    {
     "data": {
      "text/plain": [
       "0.4113249892569175"
      ]
     },
     "execution_count": 7,
     "metadata": {},
     "output_type": "execute_result"
    }
   ],
   "source": [
    "# Then 1 - (above code) gives the right area of the curve\n",
    "1-stats.norm.cdf(20, t_mean, t_std)"
   ]
  },
  {
   "cell_type": "code",
   "execution_count": 8,
   "id": "38632204",
   "metadata": {},
   "outputs": [
    {
     "data": {
      "text/plain": [
       "820.0"
      ]
     },
     "execution_count": 8,
     "metadata": {},
     "output_type": "execute_result"
    }
   ],
   "source": [
    "# Now multiplying by number of trips \n",
    "#(Because above calculation was for only one unit trip)\n",
    "2000*0.41"
   ]
  },
  {
   "cell_type": "markdown",
   "id": "0f5eb05d",
   "metadata": {},
   "source": [
    "### stats.binom.cdf(x, n, p) \n",
    "x is the number of successes from n trials with the probability of success is p"
   ]
  },
  {
   "cell_type": "code",
   "execution_count": 9,
   "id": "3f26fc60",
   "metadata": {},
   "outputs": [
    {
     "name": "stdout",
     "output_type": "stream",
     "text": [
      "0.43199999999999994\n"
     ]
    },
    {
     "data": {
      "text/plain": [
       "0.43199999999999994"
      ]
     },
     "execution_count": 9,
     "metadata": {},
     "output_type": "execute_result"
    }
   ],
   "source": [
    "# Let's find the probability of successes of having two tails\n",
    "# from three coin toss where p of having tails = 0.6\n",
    "print(3*((0.6**2)*((1-0.6)**1)))\n",
    "stats.binom.pmf(2,3,0.6) # pmf returns the p of successes"
   ]
  },
  {
   "cell_type": "markdown",
   "id": "4d19e674",
   "metadata": {},
   "source": [
    "### Question 3"
   ]
  },
  {
   "cell_type": "code",
   "execution_count": 10,
   "id": "cd952796",
   "metadata": {},
   "outputs": [],
   "source": [
    "n_trips = 5\n",
    "# Asked: over 15 probability at least 3 trips out of 5 trips\n",
    "right_area = 1 - stats.norm.cdf(15, t_mean, t_std)"
   ]
  },
  {
   "cell_type": "code",
   "execution_count": 11,
   "id": "857d70ed",
   "metadata": {},
   "outputs": [],
   "source": [
    "#\"binom.cdf(num_succ-1, num_trials, prob)\" Excel -> \"=BINOMDIST(B2,C2,D2,1)"
   ]
  },
  {
   "cell_type": "code",
   "execution_count": 12,
   "id": "acb5b31b",
   "metadata": {},
   "outputs": [
    {
     "name": "stdout",
     "output_type": "stream",
     "text": [
      "0.7382407127058933\n",
      "0.2617592872941067\n"
     ]
    }
   ],
   "source": [
    "print(right_area)\n",
    "left_area = 1-right_area\n",
    "print(left_area)"
   ]
  },
  {
   "cell_type": "markdown",
   "id": "f2f3d0ba",
   "metadata": {},
   "source": [
    "### Usually dist formulas calculates left curve area so if we need to know right area, we have to 1- left_area"
   ]
  },
  {
   "cell_type": "code",
   "execution_count": 13,
   "id": "6b4b1c15",
   "metadata": {},
   "outputs": [
    {
     "data": {
      "text/plain": [
       "0.8836952614939727"
      ]
     },
     "execution_count": 13,
     "metadata": {},
     "output_type": "execute_result"
    }
   ],
   "source": [
    "# This formula calculates the probability of having\n",
    "# 2 or less success from 5 trial whose probability = left_area\n",
    "stats.binom.cdf(2,5,left_area)"
   ]
  },
  {
   "cell_type": "code",
   "execution_count": 14,
   "id": "2981d21f",
   "metadata": {},
   "outputs": [
    {
     "data": {
      "text/plain": [
       "0.11630473850602734"
      ]
     },
     "execution_count": 14,
     "metadata": {},
     "output_type": "execute_result"
    }
   ],
   "source": [
    "# Not having 2 or less successes from 5 trials where p = left_area\n",
    "stats.binom.sf(2,5,left_area)"
   ]
  },
  {
   "cell_type": "code",
   "execution_count": 15,
   "id": "a5eaf18e",
   "metadata": {},
   "outputs": [],
   "source": [
    "#Additional\n",
    "# If we are asked to find successes between [2 and 4], for example"
   ]
  },
  {
   "cell_type": "code",
   "execution_count": 16,
   "id": "0a5257c4",
   "metadata": {},
   "outputs": [
    {
     "data": {
      "text/plain": [
       "0.7807245754350454"
      ]
     },
     "execution_count": 16,
     "metadata": {},
     "output_type": "execute_result"
    }
   ],
   "source": [
    "stats.binom.cdf(4,5,right_area)"
   ]
  },
  {
   "cell_type": "code",
   "execution_count": 17,
   "id": "d60c5ec8",
   "metadata": {
    "scrolled": true
   },
   "outputs": [
    {
     "data": {
      "text/plain": [
       "0.018557998317456286"
      ]
     },
     "execution_count": 17,
     "metadata": {},
     "output_type": "execute_result"
    }
   ],
   "source": [
    "stats.binom.cdf(1, 5, right_area)"
   ]
  },
  {
   "cell_type": "code",
   "execution_count": 18,
   "id": "38a70e49",
   "metadata": {},
   "outputs": [
    {
     "data": {
      "text/plain": [
       "0.7621665771175891"
      ]
     },
     "execution_count": 18,
     "metadata": {},
     "output_type": "execute_result"
    }
   ],
   "source": [
    "# This formula equals to excel formula --> BINOM.DIST.RANGE(5,right_area,2,4)\n",
    "stats.binom.cdf(4,5,right_area)-stats.binom.cdf(1, 5, right_area)"
   ]
  },
  {
   "cell_type": "markdown",
   "id": "669c828a",
   "metadata": {},
   "source": [
    "### Question 2"
   ]
  },
  {
   "cell_type": "code",
   "execution_count": 19,
   "id": "454ea9b6",
   "metadata": {},
   "outputs": [],
   "source": [
    "n_trips = 5\n",
    "# Asked: All of trip to get 15 or over\n",
    "left_a = stats.norm.cdf(15, t_mean, t_std)\n",
    "right_a = 1-left_a"
   ]
  },
  {
   "cell_type": "code",
   "execution_count": 20,
   "id": "379b88cc",
   "metadata": {},
   "outputs": [
    {
     "data": {
      "text/plain": [
       "0.21927542456495466"
      ]
     },
     "execution_count": 20,
     "metadata": {},
     "output_type": "execute_result"
    }
   ],
   "source": [
    "stats.binom.cdf(0,5,left_a)"
   ]
  },
  {
   "cell_type": "markdown",
   "id": "94b5fa6a",
   "metadata": {},
   "source": [
    "### Question 8"
   ]
  },
  {
   "cell_type": "markdown",
   "id": "6547d57d",
   "metadata": {},
   "source": [
    "Given:\n",
    "$$ p = 0.6 $$\n",
    "\n",
    "$$ \\hat{p} = 0.5 $$\n",
    "\n",
    "$$ n = 50$$\n",
    "\n",
    "Then:\n",
    "$$ var = \\hat{p}*(1-\\hat{p})$$\n",
    "\n",
    "$$ std = \\frac{\\sqrt{var}}{\\sqrt{n}}$$\n",
    "\n",
    "$$z = \\frac{(p-\\hat{p})}{std}$$\n",
    "\n",
    "$ \\hat{p} $ is a mean for Ha and p is from sample we got "
   ]
  },
  {
   "cell_type": "markdown",
   "id": "9d4fc968",
   "metadata": {},
   "source": [
    "from scipy.stats import norm\n",
    "\n",
    "norm.cdf(1.96)\n",
    "\n",
    "0.9750021048517795\n",
    "\n",
    "norm.cdf(-1.96)\n",
    "\n",
    "0.024997895148220435"
   ]
  },
  {
   "cell_type": "markdown",
   "id": "8c817d5f",
   "metadata": {},
   "source": [
    "### stats.norm.ppf"
   ]
  },
  {
   "cell_type": "code",
   "execution_count": 21,
   "id": "c7bfb3ad",
   "metadata": {},
   "outputs": [
    {
     "data": {
      "text/plain": [
       "2.5758293035489004"
      ]
     },
     "execution_count": 21,
     "metadata": {},
     "output_type": "execute_result"
    }
   ],
   "source": [
    "# This formula will calculate z value, two-tail\n",
    "# Where confidence interval for 99 %, z value is 2.575\n",
    "stats.norm.ppf(0.995)\n",
    "# It means that 99% confidence interval lies \n",
    "#2.575 standard deviation from the mean \n",
    "#where mean = 0 and std = 1"
   ]
  },
  {
   "cell_type": "code",
   "execution_count": 22,
   "id": "4c45fe3e",
   "metadata": {},
   "outputs": [
    {
     "data": {
      "text/plain": [
       "0.9949879956682387"
      ]
     },
     "execution_count": 22,
     "metadata": {},
     "output_type": "execute_result"
    }
   ],
   "source": [
    "stats.norm.cdf(2.575)\n",
    "# It will give the confidence interval of the given value \n",
    "#(std of how many times far from the mean (z))"
   ]
  },
  {
   "cell_type": "code",
   "execution_count": 23,
   "id": "9d156ffc",
   "metadata": {},
   "outputs": [
    {
     "data": {
      "text/plain": [
       "0.9213484060057744"
      ]
     },
     "execution_count": 23,
     "metadata": {},
     "output_type": "execute_result"
    }
   ],
   "source": [
    "stats.norm.cdf(1.4142)"
   ]
  },
  {
   "cell_type": "code",
   "execution_count": 24,
   "id": "ee4fafdc",
   "metadata": {},
   "outputs": [
    {
     "data": {
      "text/plain": [
       "0.07865159399422561"
      ]
     },
     "execution_count": 24,
     "metadata": {},
     "output_type": "execute_result"
    }
   ],
   "source": [
    "p_val = 1- stats.norm.cdf(1.4142)\n",
    "p_val"
   ]
  },
  {
   "cell_type": "markdown",
   "id": "a3471b63",
   "metadata": {},
   "source": [
    "### Question 10"
   ]
  },
  {
   "cell_type": "code",
   "execution_count": 25,
   "id": "179741a8",
   "metadata": {},
   "outputs": [],
   "source": [
    "m = 85\n",
    "std_sample = 32\n",
    "n = 16\n"
   ]
  },
  {
   "cell_type": "code",
   "execution_count": 26,
   "id": "e4e4605a",
   "metadata": {},
   "outputs": [],
   "source": [
    "std_r = std_sample/np.sqrt(n)"
   ]
  },
  {
   "cell_type": "code",
   "execution_count": 27,
   "id": "201506bb",
   "metadata": {},
   "outputs": [],
   "source": [
    "z =stats.norm.ppf(0.95)"
   ]
  },
  {
   "cell_type": "code",
   "execution_count": 28,
   "id": "ff275629",
   "metadata": {},
   "outputs": [],
   "source": [
    "marg_errors = z*std_r"
   ]
  },
  {
   "cell_type": "code",
   "execution_count": 29,
   "id": "d19613ac",
   "metadata": {},
   "outputs": [],
   "source": [
    "conf_int_min  = m-marg_errors\n",
    "conf_int_max  = m+marg_errors"
   ]
  },
  {
   "cell_type": "code",
   "execution_count": 30,
   "id": "513f6d8b",
   "metadata": {},
   "outputs": [
    {
     "name": "stdout",
     "output_type": "stream",
     "text": [
      "71.84117098438823 to  98.15882901561177\n"
     ]
    }
   ],
   "source": [
    "print(conf_int_min, 'to ', conf_int_max)"
   ]
  },
  {
   "cell_type": "code",
   "execution_count": 31,
   "id": "e9669b12",
   "metadata": {},
   "outputs": [],
   "source": [
    "#Studnt, n=999, p<0.05, 2-tail\\\n",
    "#equivalent to Excel T.INV(0.05,999) or T.INV.2T(0.1, 999)\n",
    "#90% confidence interval\n",
    "#print stats.t.ppf(1-0.025, 999)\n",
    "\n",
    "#Studnt, n=999, p<0.05%, Single tail\\\n",
    "#equivalent to Excel TINV(2*0.05,999)\\\n",
    "#print stats.t.ppf(1-0.05, 999)"
   ]
  },
  {
   "cell_type": "code",
   "execution_count": 32,
   "id": "25f5ce2a",
   "metadata": {},
   "outputs": [],
   "source": [
    "#But t is used more"
   ]
  },
  {
   "cell_type": "markdown",
   "id": "b5de4457",
   "metadata": {},
   "source": [
    "### stats.t.ppf"
   ]
  },
  {
   "cell_type": "code",
   "execution_count": 33,
   "id": "e928b825",
   "metadata": {},
   "outputs": [
    {
     "name": "stdout",
     "output_type": "stream",
     "text": [
      "70.97559715445956 to  99.02440284554044\n"
     ]
    }
   ],
   "source": [
    "t = stats.t.ppf(0.95,15)\n",
    "marg_errors = std_r*t\n",
    "conf_int_min  = m-marg_errors\n",
    "conf_int_max  = m+marg_errors\n",
    "print(conf_int_min, 'to ', conf_int_max)"
   ]
  },
  {
   "cell_type": "markdown",
   "id": "ef45f3b4",
   "metadata": {},
   "source": [
    "### Question 14"
   ]
  },
  {
   "cell_type": "code",
   "execution_count": 34,
   "id": "24f3dc55",
   "metadata": {},
   "outputs": [],
   "source": [
    "uber = pd.read_excel('data2.xlsx', sheet_name = 'Uber pay')"
   ]
  },
  {
   "cell_type": "code",
   "execution_count": 35,
   "id": "52857d02",
   "metadata": {
    "scrolled": true
   },
   "outputs": [
    {
     "data": {
      "text/html": [
       "<div>\n",
       "<style scoped>\n",
       "    .dataframe tbody tr th:only-of-type {\n",
       "        vertical-align: middle;\n",
       "    }\n",
       "\n",
       "    .dataframe tbody tr th {\n",
       "        vertical-align: top;\n",
       "    }\n",
       "\n",
       "    .dataframe thead th {\n",
       "        text-align: right;\n",
       "    }\n",
       "</style>\n",
       "<table border=\"1\" class=\"dataframe\">\n",
       "  <thead>\n",
       "    <tr style=\"text-align: right;\">\n",
       "      <th></th>\n",
       "      <th>DriverID</th>\n",
       "      <th>City</th>\n",
       "      <th>Gender</th>\n",
       "      <th>Trips</th>\n",
       "      <th>Hourly Pay</th>\n",
       "      <th>Unnamed: 5</th>\n",
       "    </tr>\n",
       "  </thead>\n",
       "  <tbody>\n",
       "    <tr>\n",
       "      <th>0</th>\n",
       "      <td>1</td>\n",
       "      <td>New York</td>\n",
       "      <td>Male</td>\n",
       "      <td>493</td>\n",
       "      <td>7.49</td>\n",
       "      <td>NaN</td>\n",
       "    </tr>\n",
       "    <tr>\n",
       "      <th>1</th>\n",
       "      <td>2</td>\n",
       "      <td>Boston</td>\n",
       "      <td>Male</td>\n",
       "      <td>1195</td>\n",
       "      <td>8.20</td>\n",
       "      <td>NaN</td>\n",
       "    </tr>\n",
       "  </tbody>\n",
       "</table>\n",
       "</div>"
      ],
      "text/plain": [
       "   DriverID      City Gender  Trips  Hourly Pay Unnamed: 5\n",
       "0         1  New York   Male    493        7.49        NaN\n",
       "1         2    Boston   Male   1195        8.20        NaN"
      ]
     },
     "execution_count": 35,
     "metadata": {},
     "output_type": "execute_result"
    }
   ],
   "source": [
    "uber.head(2)"
   ]
  },
  {
   "cell_type": "code",
   "execution_count": 36,
   "id": "1f5d13ec",
   "metadata": {},
   "outputs": [],
   "source": [
    "chic_mal = uber[(uber['City']=='Chicago')&(uber['Gender']=='Male')]['Hourly Pay']"
   ]
  },
  {
   "cell_type": "code",
   "execution_count": 37,
   "id": "566d1c96",
   "metadata": {},
   "outputs": [],
   "source": [
    "std = chic_mal.std()\n",
    "mean = chic_mal.mean()\n",
    "n = len(chic_mal)"
   ]
  },
  {
   "cell_type": "code",
   "execution_count": 38,
   "id": "177224c8",
   "metadata": {},
   "outputs": [],
   "source": [
    "t = stats.t.ppf(0.975, 181)\n",
    "std_n = std/np.sqrt(n)"
   ]
  },
  {
   "cell_type": "code",
   "execution_count": 39,
   "id": "69a3c94e",
   "metadata": {},
   "outputs": [
    {
     "data": {
      "text/plain": [
       "0.27923413996605523"
      ]
     },
     "execution_count": 39,
     "metadata": {},
     "output_type": "execute_result"
    }
   ],
   "source": [
    "marg_err = t*std_n\n",
    "marg_err"
   ]
  },
  {
   "cell_type": "markdown",
   "id": "016e2129",
   "metadata": {},
   "source": [
    "### Question 15"
   ]
  },
  {
   "cell_type": "code",
   "execution_count": 40,
   "id": "d506af0e",
   "metadata": {},
   "outputs": [],
   "source": [
    "fem_pay = uber[uber['Gender']=='Female']['Hourly Pay']"
   ]
  },
  {
   "cell_type": "code",
   "execution_count": 41,
   "id": "956ee603",
   "metadata": {},
   "outputs": [],
   "source": [
    "mean = fem_pay.mean()\n",
    "std = fem_pay.std()\n",
    "n = len(fem_pay)"
   ]
  },
  {
   "cell_type": "code",
   "execution_count": 42,
   "id": "63cf9973",
   "metadata": {},
   "outputs": [
    {
     "name": "stdout",
     "output_type": "stream",
     "text": [
      "7.211959435480943 7.670625598532671\n"
     ]
    }
   ],
   "source": [
    "t = stats.t.ppf(0.975, n-1)\n",
    "std_n = std/np.sqrt(n)\n",
    "marg_err = t*std_n\n",
    "conf_int_min = mean-marg_err\n",
    "conf_int_max = mean+marg_err\n",
    "print(conf_int_min, conf_int_max)"
   ]
  },
  {
   "cell_type": "code",
   "execution_count": 43,
   "id": "5679d07d",
   "metadata": {},
   "outputs": [],
   "source": [
    "male = uber['Gender'].value_counts()[0]\n",
    "female = uber['Gender'].value_counts()[1]"
   ]
  },
  {
   "cell_type": "code",
   "execution_count": 44,
   "id": "ae5e24bb",
   "metadata": {},
   "outputs": [],
   "source": [
    "p = female/(male+female)\n",
    "n = male+female"
   ]
  },
  {
   "cell_type": "code",
   "execution_count": 45,
   "id": "ae78b755",
   "metadata": {},
   "outputs": [],
   "source": [
    "z = stats.norm.ppf(0.975)"
   ]
  },
  {
   "cell_type": "code",
   "execution_count": 46,
   "id": "a947a62f",
   "metadata": {},
   "outputs": [],
   "source": [
    "t = stats.t.ppf(0.975, n-1)"
   ]
  },
  {
   "cell_type": "code",
   "execution_count": 47,
   "id": "b8ef92ff",
   "metadata": {},
   "outputs": [],
   "source": [
    "std = np.sqrt(p*(1-p)/n)"
   ]
  },
  {
   "cell_type": "code",
   "execution_count": 48,
   "id": "bc6c24b9",
   "metadata": {},
   "outputs": [
    {
     "name": "stdout",
     "output_type": "stream",
     "text": [
      "0.2657283864579868 0.32227161354201317\n"
     ]
    }
   ],
   "source": [
    "marg_err = t*std\n",
    "max_conf = p+marg_err\n",
    "min_conf = p-marg_err\n",
    "print(min_conf, max_conf)"
   ]
  },
  {
   "cell_type": "markdown",
   "id": "aa3190ba",
   "metadata": {},
   "source": [
    "### Question 16"
   ]
  },
  {
   "cell_type": "code",
   "execution_count": 49,
   "id": "8d1174e9",
   "metadata": {},
   "outputs": [],
   "source": [
    "# Ho: m>= m_sample\n",
    "# Ha: m< m_sample    "
   ]
  },
  {
   "cell_type": "code",
   "execution_count": 50,
   "id": "209e5c3a",
   "metadata": {},
   "outputs": [],
   "source": [
    "population_mean = 7.25\n",
    "sample_mean = uber['Hourly Pay'].mean()\n",
    "alfa = 0.05"
   ]
  },
  {
   "cell_type": "code",
   "execution_count": 51,
   "id": "befe561a",
   "metadata": {},
   "outputs": [],
   "source": [
    "n = len(uber)\n",
    "samp_std = uber['Hourly Pay'].std()\n",
    "pop_std = samp_std/np.sqrt(n)"
   ]
  },
  {
   "cell_type": "code",
   "execution_count": 52,
   "id": "52186c76",
   "metadata": {},
   "outputs": [],
   "source": [
    "z = (sample_mean - population_mean)/pop_std"
   ]
  },
  {
   "cell_type": "code",
   "execution_count": 53,
   "id": "915d4645",
   "metadata": {},
   "outputs": [
    {
     "name": "stdout",
     "output_type": "stream",
     "text": [
      "7.893409999999993\n",
      "1.9947413528989075\n"
     ]
    },
    {
     "data": {
      "text/plain": [
       "1000"
      ]
     },
     "execution_count": 53,
     "metadata": {},
     "output_type": "execute_result"
    }
   ],
   "source": [
    "print(sample_mean)\n",
    "print(samp_std)\n",
    "n"
   ]
  },
  {
   "cell_type": "markdown",
   "id": "77da348e",
   "metadata": {},
   "source": [
    "### stats.t.cdf"
   ]
  },
  {
   "cell_type": "code",
   "execution_count": 54,
   "id": "e8aaf03f",
   "metadata": {},
   "outputs": [
    {
     "data": {
      "text/plain": [
       "0.0"
      ]
     },
     "execution_count": 54,
     "metadata": {},
     "output_type": "execute_result"
    }
   ],
   "source": [
    "p = 1 - stats.t.cdf(z, 999,0)\n",
    "p\n",
    "# we will reject the null H and agree with the Ha\n",
    "# that uber driver earns more than pop_mean"
   ]
  },
  {
   "cell_type": "code",
   "execution_count": 55,
   "id": "3cfa89bc",
   "metadata": {},
   "outputs": [
    {
     "data": {
      "text/plain": [
       "0.06307926018086264"
      ]
     },
     "execution_count": 55,
     "metadata": {},
     "output_type": "execute_result"
    }
   ],
   "source": [
    "pop_std"
   ]
  },
  {
   "cell_type": "code",
   "execution_count": 56,
   "id": "26ebff73",
   "metadata": {},
   "outputs": [
    {
     "data": {
      "text/plain": [
       "1.0"
      ]
     },
     "execution_count": 56,
     "metadata": {},
     "output_type": "execute_result"
    }
   ],
   "source": [
    "stats.norm.cdf(7.89, 7.25, 0.06)"
   ]
  },
  {
   "cell_type": "markdown",
   "id": "714c189b",
   "metadata": {},
   "source": [
    "### Question 18"
   ]
  },
  {
   "cell_type": "markdown",
   "id": "33cf1865",
   "metadata": {},
   "source": [
    "# Two sample t test"
   ]
  },
  {
   "cell_type": "code",
   "execution_count": 57,
   "id": "82618c8b",
   "metadata": {},
   "outputs": [],
   "source": [
    "chicago = uber[uber['City'] =='Chicago']['Hourly Pay']\n",
    "york = uber[uber['City'] =='New York']['Hourly Pay']"
   ]
  },
  {
   "cell_type": "code",
   "execution_count": 58,
   "id": "92f0bdad",
   "metadata": {},
   "outputs": [],
   "source": [
    "ch_m = chicago.mean()\n",
    "ch_std = chicago.std()\n",
    "ch_n = len(chicago)\n",
    "york_m = york.mean()\n",
    "york_std = york.std()\n",
    "york_n = len(york)"
   ]
  },
  {
   "cell_type": "markdown",
   "id": "6118cef4",
   "metadata": {},
   "source": [
    "$$ t = \\frac{m1 - m2}{\\sqrt{\\frac{s1^2}{n1} +\\frac{s2^2}{n2}}}$$"
   ]
  },
  {
   "cell_type": "code",
   "execution_count": 59,
   "id": "44976e7b",
   "metadata": {},
   "outputs": [
    {
     "name": "stdout",
     "output_type": "stream",
     "text": [
      "8.071140684410652 1.998541508080747 263 7.882751842751838 1.9597766271731287 407\n"
     ]
    }
   ],
   "source": [
    "print(ch_m, ch_std, ch_n, york_m, york_std, york_n)"
   ]
  },
  {
   "cell_type": "code",
   "execution_count": 60,
   "id": "72dc2b35",
   "metadata": {},
   "outputs": [],
   "source": [
    "# Ho: ch_m <= york_m\n",
    "# Ha: ch_m > york_m    \n",
    "t = (ch_m-york_m) / np.sqrt((ch_std**2)/ch_n + (york_std**2)/york_n) "
   ]
  },
  {
   "cell_type": "code",
   "execution_count": 61,
   "id": "c4b707b3",
   "metadata": {},
   "outputs": [
    {
     "data": {
      "text/plain": [
       "0.8848237669591617"
      ]
     },
     "execution_count": 61,
     "metadata": {},
     "output_type": "execute_result"
    }
   ],
   "source": [
    "stats.t.cdf(t, ch_n+york_n-2)"
   ]
  },
  {
   "cell_type": "code",
   "execution_count": 62,
   "id": "b46a7428",
   "metadata": {},
   "outputs": [],
   "source": [
    "# just another example:"
   ]
  },
  {
   "cell_type": "code",
   "execution_count": 63,
   "id": "d6c0e236",
   "metadata": {},
   "outputs": [],
   "source": [
    "#Blackboard: Given:\n",
    "m1 = 82\n",
    "s1 = 2.4\n",
    "n1 = 15\n",
    "\n",
    "m2 = 84\n",
    "s2 = 1.7\n",
    "n2 = 12\n",
    "alfa = 0.05"
   ]
  },
  {
   "cell_type": "code",
   "execution_count": 64,
   "id": "375d0779",
   "metadata": {},
   "outputs": [
    {
     "data": {
      "text/plain": [
       "-2.5301595052287063"
      ]
     },
     "execution_count": 64,
     "metadata": {},
     "output_type": "execute_result"
    }
   ],
   "source": [
    "t = (m1-m2)/np.sqrt((s1**2)/n1 + (s2**2)/n2)\n",
    "t"
   ]
  },
  {
   "cell_type": "code",
   "execution_count": 65,
   "id": "05fd909e",
   "metadata": {},
   "outputs": [],
   "source": [
    "p = stats.t.cdf(t, 25)"
   ]
  },
  {
   "cell_type": "code",
   "execution_count": 66,
   "id": "191179ba",
   "metadata": {},
   "outputs": [
    {
     "name": "stdout",
     "output_type": "stream",
     "text": [
      "0.00903684801412631\n"
     ]
    },
    {
     "data": {
      "text/plain": [
       "0.025"
      ]
     },
     "execution_count": 66,
     "metadata": {},
     "output_type": "execute_result"
    }
   ],
   "source": [
    "# It is two tail test, because m1 != m2 (either high or low)\n",
    "# So alfa = alfa/2 = 0.025\n",
    "print(p)\n",
    "alfa/2"
   ]
  },
  {
   "cell_type": "markdown",
   "id": "6aa46a1a",
   "metadata": {},
   "source": [
    "**p is lower than alfa, so we reject Ho and accept Ha, which is:\n",
    "\n",
    "there is signicant difference between mean1 and mean2**"
   ]
  },
  {
   "cell_type": "code",
   "execution_count": 67,
   "id": "3d2b8af0",
   "metadata": {},
   "outputs": [],
   "source": [
    "hotel = pd.read_excel('data2.xlsx', sheet_name = 'hotel')"
   ]
  },
  {
   "cell_type": "code",
   "execution_count": 68,
   "id": "99452a0e",
   "metadata": {},
   "outputs": [
    {
     "data": {
      "text/html": [
       "<div>\n",
       "<style scoped>\n",
       "    .dataframe tbody tr th:only-of-type {\n",
       "        vertical-align: middle;\n",
       "    }\n",
       "\n",
       "    .dataframe tbody tr th {\n",
       "        vertical-align: top;\n",
       "    }\n",
       "\n",
       "    .dataframe thead th {\n",
       "        text-align: right;\n",
       "    }\n",
       "</style>\n",
       "<table border=\"1\" class=\"dataframe\">\n",
       "  <thead>\n",
       "    <tr style=\"text-align: right;\">\n",
       "      <th></th>\n",
       "      <th>BookingID</th>\n",
       "      <th>Channel</th>\n",
       "      <th>Weekday</th>\n",
       "      <th>Rate</th>\n",
       "      <th>Cancelled</th>\n",
       "    </tr>\n",
       "  </thead>\n",
       "  <tbody>\n",
       "    <tr>\n",
       "      <th>0</th>\n",
       "      <td>1</td>\n",
       "      <td>Online</td>\n",
       "      <td>Tuesday</td>\n",
       "      <td>385.56</td>\n",
       "      <td>False</td>\n",
       "    </tr>\n",
       "    <tr>\n",
       "      <th>1</th>\n",
       "      <td>2</td>\n",
       "      <td>Online</td>\n",
       "      <td>Wednesday</td>\n",
       "      <td>305.15</td>\n",
       "      <td>False</td>\n",
       "    </tr>\n",
       "    <tr>\n",
       "      <th>2</th>\n",
       "      <td>3</td>\n",
       "      <td>Online</td>\n",
       "      <td>Thursday</td>\n",
       "      <td>559.00</td>\n",
       "      <td>True</td>\n",
       "    </tr>\n",
       "    <tr>\n",
       "      <th>3</th>\n",
       "      <td>4</td>\n",
       "      <td>Online</td>\n",
       "      <td>Monday</td>\n",
       "      <td>424.15</td>\n",
       "      <td>False</td>\n",
       "    </tr>\n",
       "    <tr>\n",
       "      <th>4</th>\n",
       "      <td>5</td>\n",
       "      <td>Online</td>\n",
       "      <td>Sunday</td>\n",
       "      <td>459.00</td>\n",
       "      <td>True</td>\n",
       "    </tr>\n",
       "  </tbody>\n",
       "</table>\n",
       "</div>"
      ],
      "text/plain": [
       "   BookingID Channel    Weekday    Rate  Cancelled\n",
       "0          1  Online    Tuesday  385.56      False\n",
       "1          2  Online  Wednesday  305.15      False\n",
       "2          3  Online   Thursday  559.00       True\n",
       "3          4  Online     Monday  424.15      False\n",
       "4          5  Online     Sunday  459.00       True"
      ]
     },
     "execution_count": 68,
     "metadata": {},
     "output_type": "execute_result"
    }
   ],
   "source": [
    "hotel.head()"
   ]
  },
  {
   "cell_type": "markdown",
   "id": "7c301bc8",
   "metadata": {},
   "source": [
    "### Question 19"
   ]
  },
  {
   "cell_type": "code",
   "execution_count": 69,
   "id": "bdbe5bee",
   "metadata": {},
   "outputs": [],
   "source": [
    "rate = hotel['Rate']"
   ]
  },
  {
   "cell_type": "code",
   "execution_count": 70,
   "id": "1533e954",
   "metadata": {},
   "outputs": [],
   "source": [
    "r_m = rate.mean()\n",
    "r_s = rate.std()\n",
    "r_n = len(rate)"
   ]
  },
  {
   "cell_type": "code",
   "execution_count": 71,
   "id": "5cf6b6fc",
   "metadata": {},
   "outputs": [
    {
     "name": "stdout",
     "output_type": "stream",
     "text": [
      "1.959963984540054 1.9623414611334487\n"
     ]
    }
   ],
   "source": [
    "# Asked: build 95% confidence interval for rate\n",
    "z = stats.norm.ppf(0.975)\n",
    "t = stats.t.ppf(0.975, 999)\n",
    "print(z, t)"
   ]
  },
  {
   "cell_type": "code",
   "execution_count": 72,
   "id": "56991ba3",
   "metadata": {},
   "outputs": [],
   "source": [
    "pop_std = r_s/np.sqrt(r_n)"
   ]
  },
  {
   "cell_type": "code",
   "execution_count": 73,
   "id": "74cef9c9",
   "metadata": {},
   "outputs": [],
   "source": [
    "marg_er = pop_std*z"
   ]
  },
  {
   "cell_type": "code",
   "execution_count": 74,
   "id": "734c5edb",
   "metadata": {},
   "outputs": [
    {
     "name": "stdout",
     "output_type": "stream",
     "text": [
      "295.33095035193713 304.31864679106235\n"
     ]
    }
   ],
   "source": [
    "min_conf = r_m -marg_er\n",
    "max_conf = r_m + marg_er\n",
    "print(min_conf, max_conf)"
   ]
  },
  {
   "cell_type": "code",
   "execution_count": 75,
   "id": "aa055372",
   "metadata": {},
   "outputs": [
    {
     "name": "stdout",
     "output_type": "stream",
     "text": [
      "295.3254992216916 304.3240979213079\n"
     ]
    }
   ],
   "source": [
    "marg_er = pop_std*t\n",
    "min_conf = r_m -marg_er\n",
    "max_conf = r_m + marg_er\n",
    "print(min_conf, max_conf)"
   ]
  },
  {
   "cell_type": "markdown",
   "id": "ddf90067",
   "metadata": {},
   "source": [
    "### Question 20"
   ]
  },
  {
   "cell_type": "code",
   "execution_count": 76,
   "id": "82d31975",
   "metadata": {},
   "outputs": [],
   "source": [
    "# alfa = 0.05\n",
    "# Ho: r_m <= 300\n",
    "# Ha: r_m > 300    "
   ]
  },
  {
   "cell_type": "code",
   "execution_count": 77,
   "id": "1e85bb67",
   "metadata": {},
   "outputs": [],
   "source": [
    "t = (r_m-300)/pop_std # We should (x-x_mean)/(std/sqrt(n))"
   ]
  },
  {
   "cell_type": "code",
   "execution_count": 78,
   "id": "cef56d46",
   "metadata": {},
   "outputs": [],
   "source": [
    "p = stats.t.cdf(t, 999) # to find how much area it will\n",
    "# cover when the distance from mean is equal to t*std"
   ]
  },
  {
   "cell_type": "code",
   "execution_count": 79,
   "id": "3d7db885",
   "metadata": {},
   "outputs": [
    {
     "data": {
      "text/plain": [
       "0.4695529077738393"
      ]
     },
     "execution_count": 79,
     "metadata": {},
     "output_type": "execute_result"
    }
   ],
   "source": [
    "p"
   ]
  },
  {
   "cell_type": "markdown",
   "id": "b28f52b8",
   "metadata": {},
   "source": [
    "### Question 21"
   ]
  },
  {
   "cell_type": "code",
   "execution_count": 80,
   "id": "b1c1dd68",
   "metadata": {},
   "outputs": [],
   "source": [
    "online = hotel[hotel['Channel']=='Online']['Rate']\n",
    "offline = hotel[hotel['Channel']!='Online']['Rate']"
   ]
  },
  {
   "cell_type": "code",
   "execution_count": 81,
   "id": "5b7d9b82",
   "metadata": {},
   "outputs": [],
   "source": [
    "of_mean = offline.mean()\n",
    "of_std = offline.std()\n",
    "of_len = len(offline)\n",
    "on_mean = online.mean()\n",
    "on_std = online.std()\n",
    "on_len = len(online)"
   ]
  },
  {
   "cell_type": "code",
   "execution_count": 82,
   "id": "f43acb9f",
   "metadata": {},
   "outputs": [],
   "source": [
    "# Ho: of_mean >= on_mean\n",
    "# Ha: of_mean < on_mean\n",
    "alpha = 0.05"
   ]
  },
  {
   "cell_type": "code",
   "execution_count": 83,
   "id": "d14769cd",
   "metadata": {},
   "outputs": [],
   "source": [
    "t = (of_mean-on_mean)/np.sqrt(of_std**2/of_len + on_std**2/on_len)"
   ]
  },
  {
   "cell_type": "code",
   "execution_count": 84,
   "id": "238bb8c7",
   "metadata": {},
   "outputs": [
    {
     "data": {
      "text/plain": [
       "0.2890174472520236"
      ]
     },
     "execution_count": 84,
     "metadata": {},
     "output_type": "execute_result"
    }
   ],
   "source": [
    "stats.t.cdf(t, of_len+on_len-2) # p value is higher than alpha"
   ]
  },
  {
   "cell_type": "markdown",
   "id": "2af69ec7",
   "metadata": {},
   "source": [
    "### Question 22"
   ]
  },
  {
   "cell_type": "code",
   "execution_count": 85,
   "id": "e244937f",
   "metadata": {},
   "outputs": [
    {
     "data": {
      "text/html": [
       "<div>\n",
       "<style scoped>\n",
       "    .dataframe tbody tr th:only-of-type {\n",
       "        vertical-align: middle;\n",
       "    }\n",
       "\n",
       "    .dataframe tbody tr th {\n",
       "        vertical-align: top;\n",
       "    }\n",
       "\n",
       "    .dataframe thead th {\n",
       "        text-align: right;\n",
       "    }\n",
       "</style>\n",
       "<table border=\"1\" class=\"dataframe\">\n",
       "  <thead>\n",
       "    <tr style=\"text-align: right;\">\n",
       "      <th></th>\n",
       "      <th>Rate</th>\n",
       "    </tr>\n",
       "    <tr>\n",
       "      <th>Cancelled</th>\n",
       "      <th></th>\n",
       "    </tr>\n",
       "  </thead>\n",
       "  <tbody>\n",
       "    <tr>\n",
       "      <th>False</th>\n",
       "      <td>611</td>\n",
       "    </tr>\n",
       "    <tr>\n",
       "      <th>True</th>\n",
       "      <td>224</td>\n",
       "    </tr>\n",
       "  </tbody>\n",
       "</table>\n",
       "</div>"
      ],
      "text/plain": [
       "           Rate\n",
       "Cancelled      \n",
       "False       611\n",
       "True        224"
      ]
     },
     "execution_count": 85,
     "metadata": {},
     "output_type": "execute_result"
    }
   ],
   "source": [
    "hotel[hotel['Channel']=='Online'][['Rate',\n",
    "                                   'Cancelled']].groupby('Cancelled').count()"
   ]
  },
  {
   "cell_type": "code",
   "execution_count": 86,
   "id": "bdfb723c",
   "metadata": {},
   "outputs": [
    {
     "data": {
      "text/plain": [
       "4.9314158489676245"
      ]
     },
     "execution_count": 86,
     "metadata": {},
     "output_type": "execute_result"
    }
   ],
   "source": [
    "cancelled = 224\n",
    "not_cancelled = 611\n",
    "percent = 20\n",
    "# Let's start\n",
    "p_pop = 0.20\n",
    "p_sample = cancelled/(cancelled+not_cancelled)\n",
    "n = cancelled+not_cancelled\n",
    "std = np.sqrt(p_pop*(1-p_pop)/n)\n",
    "z = (p_sample - p_pop)/std\n",
    "z"
   ]
  },
  {
   "cell_type": "code",
   "execution_count": 87,
   "id": "2010849d",
   "metadata": {},
   "outputs": [],
   "source": [
    "# Ho: p_sample =< 0.2\n",
    "# Ha: p_sample > 0.2\n",
    "alpha = 0.05\n",
    "upper_bound = 0.95"
   ]
  },
  {
   "cell_type": "code",
   "execution_count": 88,
   "id": "5db4784e",
   "metadata": {},
   "outputs": [
    {
     "name": "stdout",
     "output_type": "stream",
     "text": [
      "0.2682634730538922 0.013842570804119656\n"
     ]
    }
   ],
   "source": [
    "print(p_sample, std)"
   ]
  },
  {
   "cell_type": "code",
   "execution_count": 89,
   "id": "cff784c1",
   "metadata": {},
   "outputs": [],
   "source": [
    "p = stats.norm.cdf(z)"
   ]
  },
  {
   "cell_type": "code",
   "execution_count": 90,
   "id": "bd05bf55",
   "metadata": {},
   "outputs": [
    {
     "data": {
      "text/plain": [
       "0.9999995918213253"
      ]
     },
     "execution_count": 90,
     "metadata": {},
     "output_type": "execute_result"
    }
   ],
   "source": [
    "# stats.binom.cdf(p_sample, 0.2, std) is different thing,\n",
    "# we can't use. (above)\n",
    "stats.norm.cdf(p_sample*100, p_pop*100, std*100) "
   ]
  },
  {
   "cell_type": "code",
   "execution_count": 91,
   "id": "62d00caa",
   "metadata": {},
   "outputs": [
    {
     "data": {
      "text/plain": [
       "0.9999995918213253"
      ]
     },
     "execution_count": 91,
     "metadata": {},
     "output_type": "execute_result"
    }
   ],
   "source": [
    "p # it is higher than upper bound, so we reject null H,\n",
    "# therefore p_sample is higher than 0.2"
   ]
  },
  {
   "cell_type": "markdown",
   "id": "8f1af636",
   "metadata": {},
   "source": [
    "### Question 23"
   ]
  },
  {
   "cell_type": "code",
   "execution_count": 92,
   "id": "74c61c33",
   "metadata": {},
   "outputs": [
    {
     "data": {
      "text/plain": [
       "0.43381616738909634"
      ]
     },
     "execution_count": 92,
     "metadata": {},
     "output_type": "execute_result"
    }
   ],
   "source": [
    "stats.norm.cdf(6,8,12) # area until 6 so 1- ..\n",
    "# gives the area starting from 6 till end"
   ]
  },
  {
   "cell_type": "code",
   "execution_count": 93,
   "id": "efff12a6",
   "metadata": {},
   "outputs": [
    {
     "data": {
      "text/plain": [
       "0.3820885778110474"
      ]
     },
     "execution_count": 93,
     "metadata": {},
     "output_type": "execute_result"
    }
   ],
   "source": [
    "stats.norm.cdf(6,15,30) # the same like above"
   ]
  },
  {
   "cell_type": "markdown",
   "id": "95fb2a98",
   "metadata": {},
   "source": [
    "### Question 24"
   ]
  },
  {
   "cell_type": "code",
   "execution_count": 94,
   "id": "8a4e852e",
   "metadata": {},
   "outputs": [
    {
     "data": {
      "text/plain": [
       "0.01738138131111422"
      ]
     },
     "execution_count": 94,
     "metadata": {},
     "output_type": "execute_result"
    }
   ],
   "source": [
    "1-stats.norm.cdf(40,32.4, 3.6) # over 40"
   ]
  },
  {
   "cell_type": "markdown",
   "id": "8adbdce7",
   "metadata": {},
   "source": [
    "### Question 25"
   ]
  },
  {
   "cell_type": "code",
   "execution_count": 95,
   "id": "c3304dc5",
   "metadata": {},
   "outputs": [
    {
     "data": {
      "text/plain": [
       "34.82816310070589"
      ]
     },
     "execution_count": 95,
     "metadata": {},
     "output_type": "execute_result"
    }
   ],
   "source": [
    "stats.norm.ppf(0.75, 32.4, 3.6)\n",
    "# gives the percentile (counter cdf) \n",
    "# it gives 75% point where mean = 32.4 and std = 3.6"
   ]
  },
  {
   "cell_type": "markdown",
   "id": "0f078870",
   "metadata": {},
   "source": [
    "### Question 26"
   ]
  },
  {
   "cell_type": "code",
   "execution_count": 96,
   "id": "16f8c208",
   "metadata": {},
   "outputs": [],
   "source": [
    "z_m = 8\n",
    "z_s = 12\n",
    "c_m = 15\n",
    "c_s = 30"
   ]
  },
  {
   "cell_type": "code",
   "execution_count": 97,
   "id": "3d734bde",
   "metadata": {},
   "outputs": [],
   "source": [
    "m_diff = z_m-c_m\n",
    "s_diff = np.sqrt(z_s**2 + c_s**2)\n",
    "z = m_diff/s_diff\n",
    "#Asked:  when m_diff < 0"
   ]
  },
  {
   "cell_type": "code",
   "execution_count": 98,
   "id": "b1975f72",
   "metadata": {},
   "outputs": [
    {
     "data": {
      "text/plain": [
       "-7"
      ]
     },
     "execution_count": 98,
     "metadata": {},
     "output_type": "execute_result"
    }
   ],
   "source": [
    "m_diff"
   ]
  },
  {
   "cell_type": "code",
   "execution_count": 99,
   "id": "06972676",
   "metadata": {},
   "outputs": [
    {
     "data": {
      "text/plain": [
       "0.5857573222326861"
      ]
     },
     "execution_count": 99,
     "metadata": {},
     "output_type": "execute_result"
    }
   ],
   "source": [
    "stats.norm.cdf(0, m_diff, s_diff) # it is when m_diff < 0"
   ]
  },
  {
   "cell_type": "code",
   "execution_count": 100,
   "id": "8c723075",
   "metadata": {},
   "outputs": [
    {
     "data": {
      "text/plain": [
       "0.41424267776731394"
      ]
     },
     "execution_count": 100,
     "metadata": {},
     "output_type": "execute_result"
    }
   ],
   "source": [
    "stats.norm.cdf(z)"
   ]
  },
  {
   "cell_type": "markdown",
   "id": "fda02735",
   "metadata": {},
   "source": [
    "### Question 27"
   ]
  },
  {
   "cell_type": "code",
   "execution_count": 101,
   "id": "3ff42db1",
   "metadata": {},
   "outputs": [],
   "source": [
    "n = 8\n",
    "price = 30\n",
    "mean = 0.08\n",
    "std = 0.12\n",
    "total = 400"
   ]
  },
  {
   "cell_type": "code",
   "execution_count": 102,
   "id": "b2ac5a63",
   "metadata": {},
   "outputs": [
    {
     "data": {
      "text/plain": [
       "50.0"
      ]
     },
     "execution_count": 102,
     "metadata": {},
     "output_type": "execute_result"
    }
   ],
   "source": [
    "single = total/n\n",
    "single"
   ]
  },
  {
   "cell_type": "code",
   "execution_count": 103,
   "id": "47b51777",
   "metadata": {},
   "outputs": [
    {
     "data": {
      "text/plain": [
       "5.070335422630023e-07"
      ]
     },
     "execution_count": 103,
     "metadata": {},
     "output_type": "execute_result"
    }
   ],
   "source": [
    "stats.norm.cdf(50, 32.4, 3.6) # till 50\n",
    "1-stats.norm.cdf(50, 32.4, 3.6) # over 50\n",
    "# almost 0"
   ]
  },
  {
   "cell_type": "code",
   "execution_count": 104,
   "id": "261565a6",
   "metadata": {},
   "outputs": [],
   "source": [
    "c_price = 30\n",
    "c_mean= 0.08\n",
    "c_std = 0.12\n",
    "z_price = 40\n",
    "z_mean = 0.15\n",
    "z_std = 0.3\n",
    "minimize = 50\n",
    "n_share = 20"
   ]
  },
  {
   "cell_type": "code",
   "execution_count": 105,
   "id": "275e296f",
   "metadata": {},
   "outputs": [
    {
     "data": {
      "text/plain": [
       "32.4"
      ]
     },
     "execution_count": 105,
     "metadata": {},
     "output_type": "execute_result"
    }
   ],
   "source": [
    "stats.norm.ppf(0.5, 32.4, 3.6)"
   ]
  },
  {
   "cell_type": "code",
   "execution_count": 106,
   "id": "202e3149",
   "metadata": {},
   "outputs": [],
   "source": [
    "new_df=pd.DataFrame(np.arange(1,21))"
   ]
  },
  {
   "cell_type": "code",
   "execution_count": 107,
   "id": "038995ce",
   "metadata": {},
   "outputs": [],
   "source": [
    "new_df['zoom_price'] = z_price\n",
    "new_df['zoom_mean'] = z_mean\n",
    "new_df['zoom_std'] = z_std\n",
    "new_df['cloud_price'] = c_price\n",
    "new_df['cloud_mean'] = c_mean\n",
    "new_df['cloud_std'] = c_std"
   ]
  },
  {
   "cell_type": "code",
   "execution_count": 108,
   "id": "e3e5d8ae",
   "metadata": {},
   "outputs": [],
   "source": [
    "new_df = new_df.rename(columns= {0:'share_count'})"
   ]
  },
  {
   "cell_type": "code",
   "execution_count": 109,
   "id": "5751f42f",
   "metadata": {},
   "outputs": [],
   "source": [
    "new_df['zoom_return'] = new_df['share_count']*(new_df['zoom_price']+\n",
    "                                               new_df['zoom_price']*new_df['zoom_mean'])"
   ]
  },
  {
   "cell_type": "code",
   "execution_count": 110,
   "id": "fc7764aa",
   "metadata": {},
   "outputs": [],
   "source": [
    "new_df['zoom_return_std'] = np.sqrt(new_df['zoom_std']**2*new_df['share_count'])"
   ]
  },
  {
   "cell_type": "code",
   "execution_count": 111,
   "id": "28901c45",
   "metadata": {},
   "outputs": [],
   "source": [
    "new_df['cloud_return'] = new_df['share_count']*(new_df['cloud_price']+\n",
    "                                                new_df['cloud_price']*new_df['cloud_mean'])\n",
    "new_df['cloud_return_std'] = np.sqrt(new_df['cloud_std']**2*new_df['share_count'])"
   ]
  },
  {
   "cell_type": "code",
   "execution_count": 112,
   "id": "96c12056",
   "metadata": {},
   "outputs": [
    {
     "data": {
      "text/html": [
       "<div>\n",
       "<style scoped>\n",
       "    .dataframe tbody tr th:only-of-type {\n",
       "        vertical-align: middle;\n",
       "    }\n",
       "\n",
       "    .dataframe tbody tr th {\n",
       "        vertical-align: top;\n",
       "    }\n",
       "\n",
       "    .dataframe thead th {\n",
       "        text-align: right;\n",
       "    }\n",
       "</style>\n",
       "<table border=\"1\" class=\"dataframe\">\n",
       "  <thead>\n",
       "    <tr style=\"text-align: right;\">\n",
       "      <th></th>\n",
       "      <th>share_count</th>\n",
       "      <th>zoom_price</th>\n",
       "      <th>zoom_mean</th>\n",
       "      <th>zoom_std</th>\n",
       "      <th>cloud_price</th>\n",
       "      <th>cloud_mean</th>\n",
       "      <th>cloud_std</th>\n",
       "      <th>zoom_return</th>\n",
       "      <th>zoom_return_std</th>\n",
       "      <th>cloud_return</th>\n",
       "      <th>cloud_return_std</th>\n",
       "    </tr>\n",
       "  </thead>\n",
       "  <tbody>\n",
       "    <tr>\n",
       "      <th>0</th>\n",
       "      <td>1</td>\n",
       "      <td>40</td>\n",
       "      <td>0.15</td>\n",
       "      <td>0.3</td>\n",
       "      <td>30</td>\n",
       "      <td>0.08</td>\n",
       "      <td>0.12</td>\n",
       "      <td>46.0</td>\n",
       "      <td>0.300000</td>\n",
       "      <td>32.4</td>\n",
       "      <td>0.120000</td>\n",
       "    </tr>\n",
       "    <tr>\n",
       "      <th>1</th>\n",
       "      <td>2</td>\n",
       "      <td>40</td>\n",
       "      <td>0.15</td>\n",
       "      <td>0.3</td>\n",
       "      <td>30</td>\n",
       "      <td>0.08</td>\n",
       "      <td>0.12</td>\n",
       "      <td>92.0</td>\n",
       "      <td>0.424264</td>\n",
       "      <td>64.8</td>\n",
       "      <td>0.169706</td>\n",
       "    </tr>\n",
       "    <tr>\n",
       "      <th>2</th>\n",
       "      <td>3</td>\n",
       "      <td>40</td>\n",
       "      <td>0.15</td>\n",
       "      <td>0.3</td>\n",
       "      <td>30</td>\n",
       "      <td>0.08</td>\n",
       "      <td>0.12</td>\n",
       "      <td>138.0</td>\n",
       "      <td>0.519615</td>\n",
       "      <td>97.2</td>\n",
       "      <td>0.207846</td>\n",
       "    </tr>\n",
       "    <tr>\n",
       "      <th>3</th>\n",
       "      <td>4</td>\n",
       "      <td>40</td>\n",
       "      <td>0.15</td>\n",
       "      <td>0.3</td>\n",
       "      <td>30</td>\n",
       "      <td>0.08</td>\n",
       "      <td>0.12</td>\n",
       "      <td>184.0</td>\n",
       "      <td>0.600000</td>\n",
       "      <td>129.6</td>\n",
       "      <td>0.240000</td>\n",
       "    </tr>\n",
       "    <tr>\n",
       "      <th>4</th>\n",
       "      <td>5</td>\n",
       "      <td>40</td>\n",
       "      <td>0.15</td>\n",
       "      <td>0.3</td>\n",
       "      <td>30</td>\n",
       "      <td>0.08</td>\n",
       "      <td>0.12</td>\n",
       "      <td>230.0</td>\n",
       "      <td>0.670820</td>\n",
       "      <td>162.0</td>\n",
       "      <td>0.268328</td>\n",
       "    </tr>\n",
       "    <tr>\n",
       "      <th>5</th>\n",
       "      <td>6</td>\n",
       "      <td>40</td>\n",
       "      <td>0.15</td>\n",
       "      <td>0.3</td>\n",
       "      <td>30</td>\n",
       "      <td>0.08</td>\n",
       "      <td>0.12</td>\n",
       "      <td>276.0</td>\n",
       "      <td>0.734847</td>\n",
       "      <td>194.4</td>\n",
       "      <td>0.293939</td>\n",
       "    </tr>\n",
       "    <tr>\n",
       "      <th>6</th>\n",
       "      <td>7</td>\n",
       "      <td>40</td>\n",
       "      <td>0.15</td>\n",
       "      <td>0.3</td>\n",
       "      <td>30</td>\n",
       "      <td>0.08</td>\n",
       "      <td>0.12</td>\n",
       "      <td>322.0</td>\n",
       "      <td>0.793725</td>\n",
       "      <td>226.8</td>\n",
       "      <td>0.317490</td>\n",
       "    </tr>\n",
       "    <tr>\n",
       "      <th>7</th>\n",
       "      <td>8</td>\n",
       "      <td>40</td>\n",
       "      <td>0.15</td>\n",
       "      <td>0.3</td>\n",
       "      <td>30</td>\n",
       "      <td>0.08</td>\n",
       "      <td>0.12</td>\n",
       "      <td>368.0</td>\n",
       "      <td>0.848528</td>\n",
       "      <td>259.2</td>\n",
       "      <td>0.339411</td>\n",
       "    </tr>\n",
       "    <tr>\n",
       "      <th>8</th>\n",
       "      <td>9</td>\n",
       "      <td>40</td>\n",
       "      <td>0.15</td>\n",
       "      <td>0.3</td>\n",
       "      <td>30</td>\n",
       "      <td>0.08</td>\n",
       "      <td>0.12</td>\n",
       "      <td>414.0</td>\n",
       "      <td>0.900000</td>\n",
       "      <td>291.6</td>\n",
       "      <td>0.360000</td>\n",
       "    </tr>\n",
       "    <tr>\n",
       "      <th>9</th>\n",
       "      <td>10</td>\n",
       "      <td>40</td>\n",
       "      <td>0.15</td>\n",
       "      <td>0.3</td>\n",
       "      <td>30</td>\n",
       "      <td>0.08</td>\n",
       "      <td>0.12</td>\n",
       "      <td>460.0</td>\n",
       "      <td>0.948683</td>\n",
       "      <td>324.0</td>\n",
       "      <td>0.379473</td>\n",
       "    </tr>\n",
       "    <tr>\n",
       "      <th>10</th>\n",
       "      <td>11</td>\n",
       "      <td>40</td>\n",
       "      <td>0.15</td>\n",
       "      <td>0.3</td>\n",
       "      <td>30</td>\n",
       "      <td>0.08</td>\n",
       "      <td>0.12</td>\n",
       "      <td>506.0</td>\n",
       "      <td>0.994987</td>\n",
       "      <td>356.4</td>\n",
       "      <td>0.397995</td>\n",
       "    </tr>\n",
       "    <tr>\n",
       "      <th>11</th>\n",
       "      <td>12</td>\n",
       "      <td>40</td>\n",
       "      <td>0.15</td>\n",
       "      <td>0.3</td>\n",
       "      <td>30</td>\n",
       "      <td>0.08</td>\n",
       "      <td>0.12</td>\n",
       "      <td>552.0</td>\n",
       "      <td>1.039230</td>\n",
       "      <td>388.8</td>\n",
       "      <td>0.415692</td>\n",
       "    </tr>\n",
       "    <tr>\n",
       "      <th>12</th>\n",
       "      <td>13</td>\n",
       "      <td>40</td>\n",
       "      <td>0.15</td>\n",
       "      <td>0.3</td>\n",
       "      <td>30</td>\n",
       "      <td>0.08</td>\n",
       "      <td>0.12</td>\n",
       "      <td>598.0</td>\n",
       "      <td>1.081665</td>\n",
       "      <td>421.2</td>\n",
       "      <td>0.432666</td>\n",
       "    </tr>\n",
       "    <tr>\n",
       "      <th>13</th>\n",
       "      <td>14</td>\n",
       "      <td>40</td>\n",
       "      <td>0.15</td>\n",
       "      <td>0.3</td>\n",
       "      <td>30</td>\n",
       "      <td>0.08</td>\n",
       "      <td>0.12</td>\n",
       "      <td>644.0</td>\n",
       "      <td>1.122497</td>\n",
       "      <td>453.6</td>\n",
       "      <td>0.448999</td>\n",
       "    </tr>\n",
       "    <tr>\n",
       "      <th>14</th>\n",
       "      <td>15</td>\n",
       "      <td>40</td>\n",
       "      <td>0.15</td>\n",
       "      <td>0.3</td>\n",
       "      <td>30</td>\n",
       "      <td>0.08</td>\n",
       "      <td>0.12</td>\n",
       "      <td>690.0</td>\n",
       "      <td>1.161895</td>\n",
       "      <td>486.0</td>\n",
       "      <td>0.464758</td>\n",
       "    </tr>\n",
       "    <tr>\n",
       "      <th>15</th>\n",
       "      <td>16</td>\n",
       "      <td>40</td>\n",
       "      <td>0.15</td>\n",
       "      <td>0.3</td>\n",
       "      <td>30</td>\n",
       "      <td>0.08</td>\n",
       "      <td>0.12</td>\n",
       "      <td>736.0</td>\n",
       "      <td>1.200000</td>\n",
       "      <td>518.4</td>\n",
       "      <td>0.480000</td>\n",
       "    </tr>\n",
       "    <tr>\n",
       "      <th>16</th>\n",
       "      <td>17</td>\n",
       "      <td>40</td>\n",
       "      <td>0.15</td>\n",
       "      <td>0.3</td>\n",
       "      <td>30</td>\n",
       "      <td>0.08</td>\n",
       "      <td>0.12</td>\n",
       "      <td>782.0</td>\n",
       "      <td>1.236932</td>\n",
       "      <td>550.8</td>\n",
       "      <td>0.494773</td>\n",
       "    </tr>\n",
       "    <tr>\n",
       "      <th>17</th>\n",
       "      <td>18</td>\n",
       "      <td>40</td>\n",
       "      <td>0.15</td>\n",
       "      <td>0.3</td>\n",
       "      <td>30</td>\n",
       "      <td>0.08</td>\n",
       "      <td>0.12</td>\n",
       "      <td>828.0</td>\n",
       "      <td>1.272792</td>\n",
       "      <td>583.2</td>\n",
       "      <td>0.509117</td>\n",
       "    </tr>\n",
       "    <tr>\n",
       "      <th>18</th>\n",
       "      <td>19</td>\n",
       "      <td>40</td>\n",
       "      <td>0.15</td>\n",
       "      <td>0.3</td>\n",
       "      <td>30</td>\n",
       "      <td>0.08</td>\n",
       "      <td>0.12</td>\n",
       "      <td>874.0</td>\n",
       "      <td>1.307670</td>\n",
       "      <td>615.6</td>\n",
       "      <td>0.523068</td>\n",
       "    </tr>\n",
       "    <tr>\n",
       "      <th>19</th>\n",
       "      <td>20</td>\n",
       "      <td>40</td>\n",
       "      <td>0.15</td>\n",
       "      <td>0.3</td>\n",
       "      <td>30</td>\n",
       "      <td>0.08</td>\n",
       "      <td>0.12</td>\n",
       "      <td>920.0</td>\n",
       "      <td>1.341641</td>\n",
       "      <td>648.0</td>\n",
       "      <td>0.536656</td>\n",
       "    </tr>\n",
       "  </tbody>\n",
       "</table>\n",
       "</div>"
      ],
      "text/plain": [
       "    share_count  zoom_price  zoom_mean  zoom_std  cloud_price  cloud_mean  \\\n",
       "0             1          40       0.15       0.3           30        0.08   \n",
       "1             2          40       0.15       0.3           30        0.08   \n",
       "2             3          40       0.15       0.3           30        0.08   \n",
       "3             4          40       0.15       0.3           30        0.08   \n",
       "4             5          40       0.15       0.3           30        0.08   \n",
       "5             6          40       0.15       0.3           30        0.08   \n",
       "6             7          40       0.15       0.3           30        0.08   \n",
       "7             8          40       0.15       0.3           30        0.08   \n",
       "8             9          40       0.15       0.3           30        0.08   \n",
       "9            10          40       0.15       0.3           30        0.08   \n",
       "10           11          40       0.15       0.3           30        0.08   \n",
       "11           12          40       0.15       0.3           30        0.08   \n",
       "12           13          40       0.15       0.3           30        0.08   \n",
       "13           14          40       0.15       0.3           30        0.08   \n",
       "14           15          40       0.15       0.3           30        0.08   \n",
       "15           16          40       0.15       0.3           30        0.08   \n",
       "16           17          40       0.15       0.3           30        0.08   \n",
       "17           18          40       0.15       0.3           30        0.08   \n",
       "18           19          40       0.15       0.3           30        0.08   \n",
       "19           20          40       0.15       0.3           30        0.08   \n",
       "\n",
       "    cloud_std  zoom_return  zoom_return_std  cloud_return  cloud_return_std  \n",
       "0        0.12         46.0         0.300000          32.4          0.120000  \n",
       "1        0.12         92.0         0.424264          64.8          0.169706  \n",
       "2        0.12        138.0         0.519615          97.2          0.207846  \n",
       "3        0.12        184.0         0.600000         129.6          0.240000  \n",
       "4        0.12        230.0         0.670820         162.0          0.268328  \n",
       "5        0.12        276.0         0.734847         194.4          0.293939  \n",
       "6        0.12        322.0         0.793725         226.8          0.317490  \n",
       "7        0.12        368.0         0.848528         259.2          0.339411  \n",
       "8        0.12        414.0         0.900000         291.6          0.360000  \n",
       "9        0.12        460.0         0.948683         324.0          0.379473  \n",
       "10       0.12        506.0         0.994987         356.4          0.397995  \n",
       "11       0.12        552.0         1.039230         388.8          0.415692  \n",
       "12       0.12        598.0         1.081665         421.2          0.432666  \n",
       "13       0.12        644.0         1.122497         453.6          0.448999  \n",
       "14       0.12        690.0         1.161895         486.0          0.464758  \n",
       "15       0.12        736.0         1.200000         518.4          0.480000  \n",
       "16       0.12        782.0         1.236932         550.8          0.494773  \n",
       "17       0.12        828.0         1.272792         583.2          0.509117  \n",
       "18       0.12        874.0         1.307670         615.6          0.523068  \n",
       "19       0.12        920.0         1.341641         648.0          0.536656  "
      ]
     },
     "execution_count": 112,
     "metadata": {},
     "output_type": "execute_result"
    }
   ],
   "source": [
    "new_df"
   ]
  },
  {
   "cell_type": "code",
   "execution_count": 113,
   "id": "ee59db37",
   "metadata": {},
   "outputs": [],
   "source": [
    "drive = pd.read_excel('data2.xlsx', \n",
    "                      sheet_name= 'drive-through')"
   ]
  },
  {
   "cell_type": "code",
   "execution_count": 114,
   "id": "82f42923",
   "metadata": {},
   "outputs": [
    {
     "data": {
      "text/html": [
       "<div>\n",
       "<style scoped>\n",
       "    .dataframe tbody tr th:only-of-type {\n",
       "        vertical-align: middle;\n",
       "    }\n",
       "\n",
       "    .dataframe tbody tr th {\n",
       "        vertical-align: top;\n",
       "    }\n",
       "\n",
       "    .dataframe thead th {\n",
       "        text-align: right;\n",
       "    }\n",
       "</style>\n",
       "<table border=\"1\" class=\"dataframe\">\n",
       "  <thead>\n",
       "    <tr style=\"text-align: right;\">\n",
       "      <th></th>\n",
       "      <th>Customer</th>\n",
       "      <th>Time</th>\n",
       "    </tr>\n",
       "  </thead>\n",
       "  <tbody>\n",
       "    <tr>\n",
       "      <th>0</th>\n",
       "      <td>1</td>\n",
       "      <td>138.6</td>\n",
       "    </tr>\n",
       "    <tr>\n",
       "      <th>1</th>\n",
       "      <td>2</td>\n",
       "      <td>43.3</td>\n",
       "    </tr>\n",
       "    <tr>\n",
       "      <th>2</th>\n",
       "      <td>3</td>\n",
       "      <td>57.5</td>\n",
       "    </tr>\n",
       "    <tr>\n",
       "      <th>3</th>\n",
       "      <td>4</td>\n",
       "      <td>84.2</td>\n",
       "    </tr>\n",
       "    <tr>\n",
       "      <th>4</th>\n",
       "      <td>5</td>\n",
       "      <td>44.7</td>\n",
       "    </tr>\n",
       "    <tr>\n",
       "      <th>...</th>\n",
       "      <td>...</td>\n",
       "      <td>...</td>\n",
       "    </tr>\n",
       "    <tr>\n",
       "      <th>195</th>\n",
       "      <td>196</td>\n",
       "      <td>88.4</td>\n",
       "    </tr>\n",
       "    <tr>\n",
       "      <th>196</th>\n",
       "      <td>197</td>\n",
       "      <td>198.4</td>\n",
       "    </tr>\n",
       "    <tr>\n",
       "      <th>197</th>\n",
       "      <td>198</td>\n",
       "      <td>36.9</td>\n",
       "    </tr>\n",
       "    <tr>\n",
       "      <th>198</th>\n",
       "      <td>199</td>\n",
       "      <td>47.6</td>\n",
       "    </tr>\n",
       "    <tr>\n",
       "      <th>199</th>\n",
       "      <td>200</td>\n",
       "      <td>50.7</td>\n",
       "    </tr>\n",
       "  </tbody>\n",
       "</table>\n",
       "<p>200 rows × 2 columns</p>\n",
       "</div>"
      ],
      "text/plain": [
       "     Customer   Time\n",
       "0           1  138.6\n",
       "1           2   43.3\n",
       "2           3   57.5\n",
       "3           4   84.2\n",
       "4           5   44.7\n",
       "..        ...    ...\n",
       "195       196   88.4\n",
       "196       197  198.4\n",
       "197       198   36.9\n",
       "198       199   47.6\n",
       "199       200   50.7\n",
       "\n",
       "[200 rows x 2 columns]"
      ]
     },
     "execution_count": 114,
     "metadata": {},
     "output_type": "execute_result"
    }
   ],
   "source": [
    "drive"
   ]
  },
  {
   "cell_type": "markdown",
   "id": "16a9ef2b",
   "metadata": {},
   "source": [
    "### Question 29"
   ]
  },
  {
   "cell_type": "code",
   "execution_count": 115,
   "id": "796c0d0d",
   "metadata": {},
   "outputs": [
    {
     "data": {
      "text/plain": [
       "4.7617343188819445"
      ]
     },
     "execution_count": 115,
     "metadata": {},
     "output_type": "execute_result"
    }
   ],
   "source": [
    "st_err = stats.sem(drive['Time']) # standard error\n",
    "st_err"
   ]
  },
  {
   "cell_type": "code",
   "execution_count": 116,
   "id": "b6b23aac",
   "metadata": {},
   "outputs": [
    {
     "data": {
      "text/plain": [
       "4.7617343188819445"
      ]
     },
     "execution_count": 116,
     "metadata": {},
     "output_type": "execute_result"
    }
   ],
   "source": [
    "drive['Time'].std()/np.sqrt(len(drive))\n",
    "# equialent for std_error = std/sqrt(n)"
   ]
  },
  {
   "cell_type": "markdown",
   "id": "bc17a270",
   "metadata": {},
   "source": [
    "### 1 st way for confidence interval when alpha = 0.90"
   ]
  },
  {
   "cell_type": "code",
   "execution_count": 117,
   "id": "0dcb577f",
   "metadata": {},
   "outputs": [],
   "source": [
    "mean= drive['Time'].mean()"
   ]
  },
  {
   "cell_type": "code",
   "execution_count": 118,
   "id": "2ff43685",
   "metadata": {},
   "outputs": [],
   "source": [
    "t = stats.t.ppf(0.95, len(drive) - 1)"
   ]
  },
  {
   "cell_type": "code",
   "execution_count": 119,
   "id": "269ba3e1",
   "metadata": {},
   "outputs": [],
   "source": [
    "marg_err = t*st_err"
   ]
  },
  {
   "cell_type": "code",
   "execution_count": 120,
   "id": "aabedb83",
   "metadata": {},
   "outputs": [
    {
     "data": {
      "text/plain": [
       "89.31801144522497"
      ]
     },
     "execution_count": 120,
     "metadata": {},
     "output_type": "execute_result"
    }
   ],
   "source": [
    "mean-marg_err"
   ]
  },
  {
   "cell_type": "code",
   "execution_count": 121,
   "id": "2b7ca042",
   "metadata": {},
   "outputs": [
    {
     "data": {
      "text/plain": [
       "105.05598855477506"
      ]
     },
     "execution_count": 121,
     "metadata": {},
     "output_type": "execute_result"
    }
   ],
   "source": [
    "mean+marg_err"
   ]
  },
  {
   "cell_type": "markdown",
   "id": "efd859b7",
   "metadata": {},
   "source": [
    "### 2 nd way for confidence interval when alpha = 0.90"
   ]
  },
  {
   "cell_type": "code",
   "execution_count": 122,
   "id": "0e950b0c",
   "metadata": {},
   "outputs": [
    {
     "data": {
      "text/plain": [
       "(89.31801144522497, 105.05598855477506)"
      ]
     },
     "execution_count": 122,
     "metadata": {},
     "output_type": "execute_result"
    }
   ],
   "source": [
    "stats.t.interval(alpha = 0.9, \n",
    "                 df = len(drive)- 1, \n",
    "                 loc = np.mean(drive['Time']), \n",
    "                 scale = stats.sem(drive['Time']))"
   ]
  },
  {
   "cell_type": "markdown",
   "id": "3568c3d0",
   "metadata": {},
   "source": [
    "### Question 30"
   ]
  },
  {
   "cell_type": "code",
   "execution_count": 123,
   "id": "09ad101c",
   "metadata": {},
   "outputs": [],
   "source": [
    "light = pd.read_excel('data2.xlsx', sheet_name = 'lightbulbs')"
   ]
  },
  {
   "cell_type": "code",
   "execution_count": 124,
   "id": "541fec0e",
   "metadata": {
    "scrolled": true
   },
   "outputs": [
    {
     "data": {
      "text/html": [
       "<div>\n",
       "<style scoped>\n",
       "    .dataframe tbody tr th:only-of-type {\n",
       "        vertical-align: middle;\n",
       "    }\n",
       "\n",
       "    .dataframe tbody tr th {\n",
       "        vertical-align: top;\n",
       "    }\n",
       "\n",
       "    .dataframe thead th {\n",
       "        text-align: right;\n",
       "    }\n",
       "</style>\n",
       "<table border=\"1\" class=\"dataframe\">\n",
       "  <thead>\n",
       "    <tr style=\"text-align: right;\">\n",
       "      <th></th>\n",
       "      <th>Lightbulb</th>\n",
       "      <th>Lifetime</th>\n",
       "    </tr>\n",
       "  </thead>\n",
       "  <tbody>\n",
       "    <tr>\n",
       "      <th>0</th>\n",
       "      <td>1</td>\n",
       "      <td>840.08</td>\n",
       "    </tr>\n",
       "    <tr>\n",
       "      <th>1</th>\n",
       "      <td>2</td>\n",
       "      <td>960.00</td>\n",
       "    </tr>\n",
       "    <tr>\n",
       "      <th>2</th>\n",
       "      <td>3</td>\n",
       "      <td>953.38</td>\n",
       "    </tr>\n",
       "    <tr>\n",
       "      <th>3</th>\n",
       "      <td>4</td>\n",
       "      <td>981.14</td>\n",
       "    </tr>\n",
       "    <tr>\n",
       "      <th>4</th>\n",
       "      <td>5</td>\n",
       "      <td>938.66</td>\n",
       "    </tr>\n",
       "  </tbody>\n",
       "</table>\n",
       "</div>"
      ],
      "text/plain": [
       "   Lightbulb  Lifetime\n",
       "0          1    840.08\n",
       "1          2    960.00\n",
       "2          3    953.38\n",
       "3          4    981.14\n",
       "4          5    938.66"
      ]
     },
     "execution_count": 124,
     "metadata": {},
     "output_type": "execute_result"
    }
   ],
   "source": [
    "light.head()"
   ]
  },
  {
   "cell_type": "code",
   "execution_count": 125,
   "id": "2cfe231f",
   "metadata": {},
   "outputs": [],
   "source": [
    "# Ho: life <= 1000;\n",
    "# Ha: life > 1000;\n",
    "alpha = 0.05"
   ]
  },
  {
   "cell_type": "markdown",
   "id": "fd30c032",
   "metadata": {},
   "source": [
    "### 1st way"
   ]
  },
  {
   "cell_type": "code",
   "execution_count": 126,
   "id": "bb64ab8e",
   "metadata": {},
   "outputs": [],
   "source": [
    "mean = light['Lifetime'].mean()\n",
    "std = light['Lifetime'].std()\n",
    "n = len(light)\n",
    "pop_std = std/np.sqrt(n)"
   ]
  },
  {
   "cell_type": "code",
   "execution_count": 127,
   "id": "f1f691e2",
   "metadata": {},
   "outputs": [
    {
     "data": {
      "text/plain": [
       "-1.0303562006210676"
      ]
     },
     "execution_count": 127,
     "metadata": {},
     "output_type": "execute_result"
    }
   ],
   "source": [
    "t = (mean -1000)/pop_std\n",
    "t"
   ]
  },
  {
   "cell_type": "code",
   "execution_count": 128,
   "id": "bf3ea965",
   "metadata": {},
   "outputs": [
    {
     "data": {
      "text/plain": [
       "0.8473232451095432"
      ]
     },
     "execution_count": 128,
     "metadata": {},
     "output_type": "execute_result"
    }
   ],
   "source": [
    "stats.t.cdf(t, n-1) \n",
    "# this tells us that \n",
    "# sample_mean - pop_mean < 0 has the area of 0.15,\n",
    "# so 1- p gives the area of sample_mean-pop_mean> 0\n",
    "1- stats.t.cdf(t, n-1) # this is final p value"
   ]
  },
  {
   "cell_type": "markdown",
   "id": "c523fa20",
   "metadata": {},
   "source": [
    "### second way"
   ]
  },
  {
   "cell_type": "code",
   "execution_count": 129,
   "id": "098bb0ca",
   "metadata": {},
   "outputs": [
    {
     "data": {
      "text/plain": [
       "Ttest_1sampResult(statistic=-1.0303562006210678, pvalue=0.8473232451095432)"
      ]
     },
     "execution_count": 129,
     "metadata": {},
     "output_type": "execute_result"
    }
   ],
   "source": [
    "stats.ttest_1samp(light['Lifetime'],\n",
    "                  1000, \n",
    "                  alternative = 'greater')"
   ]
  },
  {
   "cell_type": "markdown",
   "id": "4f1ff480",
   "metadata": {},
   "source": [
    "### Question 31:"
   ]
  },
  {
   "cell_type": "code",
   "execution_count": 130,
   "id": "9bd6d2d5",
   "metadata": {},
   "outputs": [],
   "source": [
    "battery = pd.read_excel('data2.xlsx', sheet_name = 'battery')"
   ]
  },
  {
   "cell_type": "code",
   "execution_count": 131,
   "id": "14fc7e8e",
   "metadata": {},
   "outputs": [],
   "source": [
    "# Ho: brand_1 = brand2\n",
    "# Ha: brand1 != brand2\n",
    "alpha = 0.05"
   ]
  },
  {
   "cell_type": "markdown",
   "id": "0563f7ca",
   "metadata": {},
   "source": [
    "### 1st:"
   ]
  },
  {
   "cell_type": "code",
   "execution_count": 157,
   "id": "7d8f6fcc",
   "metadata": {},
   "outputs": [],
   "source": [
    "battery.columns = ['battery', 'brand_1', 'brand_2']"
   ]
  },
  {
   "cell_type": "code",
   "execution_count": 158,
   "id": "52e7efb3",
   "metadata": {},
   "outputs": [],
   "source": [
    "b1_mean=battery['brand_1'].mean()\n",
    "b1_std = battery['brand_1'].std()\n",
    "b2_mean=battery['brand_2'].mean()\n",
    "b2_std = battery['brand_2'].std()\n",
    "b1_len = len(battery['brand_1'])\n",
    "b2_len = len(battery['brand_2'])"
   ]
  },
  {
   "cell_type": "code",
   "execution_count": 159,
   "id": "dc621db0",
   "metadata": {},
   "outputs": [],
   "source": [
    "t = (b1_mean - b2_mean)/np.sqrt(b1_std**2/ b1_len + b2_std**2/b2_len)"
   ]
  },
  {
   "cell_type": "code",
   "execution_count": 160,
   "id": "a46113b5",
   "metadata": {},
   "outputs": [
    {
     "data": {
      "text/plain": [
       "0.7677462249616107"
      ]
     },
     "execution_count": 160,
     "metadata": {},
     "output_type": "execute_result"
    }
   ],
   "source": [
    "t"
   ]
  },
  {
   "cell_type": "code",
   "execution_count": 163,
   "id": "4f3e68ae",
   "metadata": {
    "scrolled": true
   },
   "outputs": [
    {
     "name": "stdout",
     "output_type": "stream",
     "text": [
      "0.778223713623696\n",
      "0.22177628637630398\n",
      "0.44355257275260795\n"
     ]
    }
   ],
   "source": [
    "print(stats.t.cdf(t, b1_len +b2_len -2))\n",
    "# lower tail\n",
    "print(1 -stats.t.cdf(t, b1_len +b2_len -2))\n",
    "# upper tail\n",
    "print((1 -stats.t.cdf(t, b1_len +b2_len -2))*2)\n",
    "# two-sided\n",
    "# so p value is greater than alpha, we can't reject Ho"
   ]
  },
  {
   "cell_type": "markdown",
   "id": "23a297b7",
   "metadata": {},
   "source": [
    "### 2nd:"
   ]
  },
  {
   "cell_type": "code",
   "execution_count": 162,
   "id": "dff4bb60",
   "metadata": {},
   "outputs": [
    {
     "data": {
      "text/plain": [
       "Ttest_indResult(statistic=0.76774622496159, pvalue=0.4435525727526203)"
      ]
     },
     "execution_count": 162,
     "metadata": {},
     "output_type": "execute_result"
    }
   ],
   "source": [
    "stats.ttest_ind(battery['brand_1'],\n",
    "                battery['brand_2'],\n",
    "                alternative = 'two-sided')\n",
    "# p value is 0.46, so divided by two (two_sided)"
   ]
  },
  {
   "cell_type": "code",
   "execution_count": 138,
   "id": "d138352d",
   "metadata": {},
   "outputs": [],
   "source": [
    "df = pd.DataFrame({'col_1':[10, 9, 11, 8, 14, 6],\n",
    "                   'col_2':[11, 12, 7, 10, 8,13]})"
   ]
  },
  {
   "cell_type": "code",
   "execution_count": 139,
   "id": "14e662b3",
   "metadata": {},
   "outputs": [],
   "source": [
    "mean_1 = df['col_1'].mean()\n",
    "std_1 = df['col_1'].std()\n",
    "n_1 = len(df)\n",
    "mean_2 = df['col_2'].mean()\n",
    "std_2 = df['col_2'].std()\n",
    "n_2 = len(df)"
   ]
  },
  {
   "cell_type": "code",
   "execution_count": 153,
   "id": "819e92f5",
   "metadata": {},
   "outputs": [
    {
     "name": "stdout",
     "output_type": "stream",
     "text": [
      "-0.34188172937891387 0.3697579336002253\n"
     ]
    }
   ],
   "source": [
    "t = (mean_1 - mean_2)/np.sqrt(std_1**2/n_1 + std_2**2/n_2)\n",
    "p = stats.t.cdf(t, n_1+n_2-2)\n",
    "print(t, p)"
   ]
  },
  {
   "cell_type": "code",
   "execution_count": 152,
   "id": "b95c4078",
   "metadata": {},
   "outputs": [
    {
     "data": {
      "text/plain": [
       "Ttest_indResult(statistic=-0.34188172937891387, pvalue=0.7395158672004506)"
      ]
     },
     "execution_count": 152,
     "metadata": {},
     "output_type": "execute_result"
    }
   ],
   "source": [
    "stats.ttest_ind(df['col_1'], \n",
    "                df['col_2'],\n",
    "                alternative='two-sided')"
   ]
  },
  {
   "cell_type": "markdown",
   "id": "7fd97935",
   "metadata": {},
   "source": [
    "### Question 33"
   ]
  },
  {
   "cell_type": "markdown",
   "id": "b433d70a",
   "metadata": {},
   "source": [
    "## Paired two sample t-Test"
   ]
  },
  {
   "cell_type": "code",
   "execution_count": 200,
   "id": "d2bee0ec",
   "metadata": {},
   "outputs": [],
   "source": [
    "import pandas as pd\n",
    "import scipy.stats as stats"
   ]
  },
  {
   "cell_type": "code",
   "execution_count": 169,
   "id": "43bbf3af",
   "metadata": {},
   "outputs": [],
   "source": [
    "# We have a dataset for the scores before training and after training"
   ]
  },
  {
   "cell_type": "code",
   "execution_count": 201,
   "id": "91399a3e",
   "metadata": {},
   "outputs": [
    {
     "data": {
      "text/html": [
       "<div>\n",
       "<style scoped>\n",
       "    .dataframe tbody tr th:only-of-type {\n",
       "        vertical-align: middle;\n",
       "    }\n",
       "\n",
       "    .dataframe tbody tr th {\n",
       "        vertical-align: top;\n",
       "    }\n",
       "\n",
       "    .dataframe thead th {\n",
       "        text-align: right;\n",
       "    }\n",
       "</style>\n",
       "<table border=\"1\" class=\"dataframe\">\n",
       "  <thead>\n",
       "    <tr style=\"text-align: right;\">\n",
       "      <th></th>\n",
       "      <th>Employee</th>\n",
       "      <th>Score_Before</th>\n",
       "      <th>Score_After</th>\n",
       "    </tr>\n",
       "  </thead>\n",
       "  <tbody>\n",
       "    <tr>\n",
       "      <th>0</th>\n",
       "      <td>1</td>\n",
       "      <td>84</td>\n",
       "      <td>84</td>\n",
       "    </tr>\n",
       "    <tr>\n",
       "      <th>1</th>\n",
       "      <td>2</td>\n",
       "      <td>66</td>\n",
       "      <td>85</td>\n",
       "    </tr>\n",
       "    <tr>\n",
       "      <th>2</th>\n",
       "      <td>3</td>\n",
       "      <td>84</td>\n",
       "      <td>87</td>\n",
       "    </tr>\n",
       "  </tbody>\n",
       "</table>\n",
       "</div>"
      ],
      "text/plain": [
       "   Employee  Score_Before  Score_After\n",
       "0         1            84           84\n",
       "1         2            66           85\n",
       "2         3            84           87"
      ]
     },
     "execution_count": 201,
     "metadata": {},
     "output_type": "execute_result"
    }
   ],
   "source": [
    "train = pd.read_excel('data2.xlsx', sheet_name = 'training')\n",
    "train.head(3)"
   ]
  },
  {
   "cell_type": "markdown",
   "id": "b6e2a364",
   "metadata": {},
   "source": [
    "### Question"
   ]
  },
  {
   "cell_type": "code",
   "execution_count": null,
   "id": "0990e3c1",
   "metadata": {},
   "outputs": [],
   "source": [
    "# Is score after training is significantly higher than\n",
    "# score before training at 5 % significance level?\n",
    "# Ho: score_after <= score_before\n",
    "# Ha: score_after > score_before"
   ]
  },
  {
   "cell_type": "code",
   "execution_count": 202,
   "id": "8d924d2a",
   "metadata": {},
   "outputs": [],
   "source": [
    "before = train['Score_Before']\n",
    "after = train['Score_After']"
   ]
  },
  {
   "cell_type": "markdown",
   "id": "ce4b90e9",
   "metadata": {},
   "source": [
    "## 1st:"
   ]
  },
  {
   "cell_type": "code",
   "execution_count": 215,
   "id": "33ac5dac",
   "metadata": {},
   "outputs": [],
   "source": [
    "diff = after -before"
   ]
  },
  {
   "cell_type": "code",
   "execution_count": 206,
   "id": "fed95986",
   "metadata": {},
   "outputs": [],
   "source": [
    "t = diff.mean()/(np.sqrt(diff.std()**2/len(diff)))"
   ]
  },
  {
   "cell_type": "code",
   "execution_count": 207,
   "id": "f4882f24",
   "metadata": {},
   "outputs": [
    {
     "data": {
      "text/plain": [
       "7.494583135258959"
      ]
     },
     "execution_count": 207,
     "metadata": {},
     "output_type": "execute_result"
    }
   ],
   "source": [
    "t"
   ]
  },
  {
   "cell_type": "code",
   "execution_count": 212,
   "id": "b66786be",
   "metadata": {},
   "outputs": [
    {
     "name": "stdout",
     "output_type": "stream",
     "text": [
      "2.2653242615078284e-09\n"
     ]
    },
    {
     "data": {
      "text/plain": [
       "0.9999999977346757"
      ]
     },
     "execution_count": 212,
     "metadata": {},
     "output_type": "execute_result"
    }
   ],
   "source": [
    "p = 1 -stats.t.cdf(t, n-1)\n",
    "print(p)\n",
    "stats.t.cdf(t, n-1)"
   ]
  },
  {
   "cell_type": "code",
   "execution_count": 175,
   "id": "6c14336a",
   "metadata": {},
   "outputs": [
    {
     "data": {
      "text/plain": [
       "0.95"
      ]
     },
     "execution_count": 175,
     "metadata": {},
     "output_type": "execute_result"
    }
   ],
   "source": [
    "alpha = 0.05\n",
    "0.95\n",
    "1- alpha\n",
    "# Reject our Ho\n",
    "# Accept Ha"
   ]
  },
  {
   "cell_type": "markdown",
   "id": "631fe4b4",
   "metadata": {},
   "source": [
    "## 2nd"
   ]
  },
  {
   "cell_type": "code",
   "execution_count": 213,
   "id": "78d5bee3",
   "metadata": {},
   "outputs": [
    {
     "data": {
      "text/plain": [
       "Ttest_relResult(statistic=7.49458313525896, pvalue=2.2653242936330923e-09)"
      ]
     },
     "execution_count": 213,
     "metadata": {},
     "output_type": "execute_result"
    }
   ],
   "source": [
    "stats.ttest_rel(after,before, alternative = 'greater')"
   ]
  },
  {
   "cell_type": "code",
   "execution_count": 149,
   "id": "9c43105e",
   "metadata": {},
   "outputs": [
    {
     "name": "stdout",
     "output_type": "stream",
     "text": [
      "[NbConvertApp] Converting notebook Assign_cdf.ipynb to webpdf\n",
      "[NbConvertApp] Writing 474316 bytes to Assign_cdf.pdf\n"
     ]
    }
   ],
   "source": [
    "!jupyter nbconvert --to webpdf  Assign_cdf.ipynb"
   ]
  }
 ],
 "metadata": {
  "kernelspec": {
   "display_name": "Python 3 (ipykernel)",
   "language": "python",
   "name": "python3"
  },
  "language_info": {
   "codemirror_mode": {
    "name": "ipython",
    "version": 3
   },
   "file_extension": ".py",
   "mimetype": "text/x-python",
   "name": "python",
   "nbconvert_exporter": "python",
   "pygments_lexer": "ipython3",
   "version": "3.9.7"
  }
 },
 "nbformat": 4,
 "nbformat_minor": 5
}
