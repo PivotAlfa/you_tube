{
 "cells": [
  {
   "cell_type": "code",
   "execution_count": 1,
   "id": "bf89b046",
   "metadata": {},
   "outputs": [],
   "source": [
    "# necessary libraries\n",
    "import numpy as np\n",
    "import pandas as pd\n",
    "import matplotlib.pyplot as plt\n",
    "import seaborn as sns"
   ]
  },
  {
   "cell_type": "code",
   "execution_count": 2,
   "id": "79f1cf5e",
   "metadata": {},
   "outputs": [
    {
     "data": {
      "text/html": [
       "<div>\n",
       "<style scoped>\n",
       "    .dataframe tbody tr th:only-of-type {\n",
       "        vertical-align: middle;\n",
       "    }\n",
       "\n",
       "    .dataframe tbody tr th {\n",
       "        vertical-align: top;\n",
       "    }\n",
       "\n",
       "    .dataframe thead th {\n",
       "        text-align: right;\n",
       "    }\n",
       "</style>\n",
       "<table border=\"1\" class=\"dataframe\">\n",
       "  <thead>\n",
       "    <tr style=\"text-align: right;\">\n",
       "      <th></th>\n",
       "      <th>Timestamp</th>\n",
       "      <th>Gender</th>\n",
       "      <th>Your study year</th>\n",
       "      <th>Which department</th>\n",
       "      <th>How many electronic devices do you use?</th>\n",
       "      <th>What is your recent latest CGPA ?</th>\n",
       "      <th>Is there an increase in your CGPA?</th>\n",
       "      <th>Average hour you spent using electronic devices for academic purposes in a day (hours).</th>\n",
       "      <th>What is the purpose of buying the device?</th>\n",
       "    </tr>\n",
       "  </thead>\n",
       "  <tbody>\n",
       "    <tr>\n",
       "      <th>0</th>\n",
       "      <td>7/19/2022 12:26:34</td>\n",
       "      <td>Female</td>\n",
       "      <td>4</td>\n",
       "      <td>Information Technology</td>\n",
       "      <td>2</td>\n",
       "      <td>3.00-3.49</td>\n",
       "      <td>Increase</td>\n",
       "      <td>4-6</td>\n",
       "      <td>Studies, Entertainment, Phone call</td>\n",
       "    </tr>\n",
       "    <tr>\n",
       "      <th>1</th>\n",
       "      <td>7/21/2022 2:19:26</td>\n",
       "      <td>Male</td>\n",
       "      <td>Post Graduate</td>\n",
       "      <td>Business Management</td>\n",
       "      <td>4</td>\n",
       "      <td>3.00-3.49</td>\n",
       "      <td>decrease</td>\n",
       "      <td>1-3</td>\n",
       "      <td>Studies, Entertainment, Online class, games, M...</td>\n",
       "    </tr>\n",
       "    <tr>\n",
       "      <th>2</th>\n",
       "      <td>7/21/2022 18:55:02</td>\n",
       "      <td>Male</td>\n",
       "      <td>3</td>\n",
       "      <td>Information Technology</td>\n",
       "      <td>3</td>\n",
       "      <td>3.50 - 3.99</td>\n",
       "      <td>Increase</td>\n",
       "      <td>4-6</td>\n",
       "      <td>Studies, Entertainment, Online class, Phone call</td>\n",
       "    </tr>\n",
       "    <tr>\n",
       "      <th>3</th>\n",
       "      <td>8/22/2022 10:01:30</td>\n",
       "      <td>Female</td>\n",
       "      <td>3</td>\n",
       "      <td>Engineering</td>\n",
       "      <td>3</td>\n",
       "      <td>2.50-2.99</td>\n",
       "      <td>decrease</td>\n",
       "      <td>1-3</td>\n",
       "      <td>Studies, Entertainment, Online class, games, M...</td>\n",
       "    </tr>\n",
       "    <tr>\n",
       "      <th>4</th>\n",
       "      <td>8/22/2022 10:02:05</td>\n",
       "      <td>Male</td>\n",
       "      <td>2</td>\n",
       "      <td>Architecture &amp; Built Environment</td>\n",
       "      <td>2</td>\n",
       "      <td>3.00-3.49</td>\n",
       "      <td>Increase</td>\n",
       "      <td>4-6</td>\n",
       "      <td>Studies, Entertainment</td>\n",
       "    </tr>\n",
       "  </tbody>\n",
       "</table>\n",
       "</div>"
      ],
      "text/plain": [
       "            Timestamp  Gender Your study year  \\\n",
       "0  7/19/2022 12:26:34  Female               4   \n",
       "1   7/21/2022 2:19:26    Male   Post Graduate   \n",
       "2  7/21/2022 18:55:02    Male               3   \n",
       "3  8/22/2022 10:01:30  Female               3   \n",
       "4  8/22/2022 10:02:05    Male               2   \n",
       "\n",
       "                   Which department  How many electronic devices do you use?  \\\n",
       "0            Information Technology                                        2   \n",
       "1               Business Management                                        4   \n",
       "2            Information Technology                                        3   \n",
       "3                       Engineering                                        3   \n",
       "4  Architecture & Built Environment                                        2   \n",
       "\n",
       "  What is your recent latest CGPA ? Is there an increase in your CGPA?  \\\n",
       "0                         3.00-3.49                           Increase   \n",
       "1                         3.00-3.49                           decrease   \n",
       "2                       3.50 - 3.99                           Increase   \n",
       "3                         2.50-2.99                           decrease   \n",
       "4                         3.00-3.49                           Increase   \n",
       "\n",
       "  Average hour you spent using electronic devices for academic purposes in a day (hours).  \\\n",
       "0                                                4-6                                        \n",
       "1                                                1-3                                        \n",
       "2                                                4-6                                        \n",
       "3                                                1-3                                        \n",
       "4                                                4-6                                        \n",
       "\n",
       "           What is the purpose of buying the device?  \n",
       "0                 Studies, Entertainment, Phone call  \n",
       "1  Studies, Entertainment, Online class, games, M...  \n",
       "2   Studies, Entertainment, Online class, Phone call  \n",
       "3  Studies, Entertainment, Online class, games, M...  \n",
       "4                             Studies, Entertainment  "
      ]
     },
     "execution_count": 2,
     "metadata": {},
     "output_type": "execute_result"
    }
   ],
   "source": [
    "techno = pd.read_csv('alfa.csv')\n",
    "techno.head()"
   ]
  },
  {
   "cell_type": "code",
   "execution_count": 3,
   "id": "5f54c5af",
   "metadata": {},
   "outputs": [
    {
     "name": "stdout",
     "output_type": "stream",
     "text": [
      "<class 'pandas.core.frame.DataFrame'>\n",
      "RangeIndex: 30 entries, 0 to 29\n",
      "Data columns (total 9 columns):\n",
      " #   Column                                                                                   Non-Null Count  Dtype \n",
      "---  ------                                                                                   --------------  ----- \n",
      " 0   Timestamp                                                                                30 non-null     object\n",
      " 1   Gender                                                                                   30 non-null     object\n",
      " 2   Your study year                                                                          30 non-null     object\n",
      " 3   Which department                                                                         30 non-null     object\n",
      " 4   How many electronic devices do you use?                                                  30 non-null     int64 \n",
      " 5   What is your recent latest CGPA ?                                                        30 non-null     object\n",
      " 6   Is there an increase in your CGPA?                                                       30 non-null     object\n",
      " 7   Average hour you spent using electronic devices for academic purposes in a day (hours).  30 non-null     object\n",
      " 8   What is the purpose of buying the device?                                                30 non-null     object\n",
      "dtypes: int64(1), object(8)\n",
      "memory usage: 2.2+ KB\n"
     ]
    }
   ],
   "source": [
    "techno.info()"
   ]
  },
  {
   "cell_type": "code",
   "execution_count": 4,
   "id": "30232c24",
   "metadata": {},
   "outputs": [],
   "source": [
    "# change the columns\n",
    "techno.columns = ['time', 'gender', 'study_year',\n",
    "                  'department', 'num_of_gadget', \n",
    "                  'recent_grade', 'gpa_increase', \n",
    "                  'mean_hour', 'purpose']"
   ]
  },
  {
   "cell_type": "code",
   "execution_count": 5,
   "id": "dcac91ea",
   "metadata": {},
   "outputs": [
    {
     "name": "stdout",
     "output_type": "stream",
     "text": [
      "<class 'pandas.core.frame.DataFrame'>\n",
      "RangeIndex: 30 entries, 0 to 29\n",
      "Data columns (total 9 columns):\n",
      " #   Column         Non-Null Count  Dtype \n",
      "---  ------         --------------  ----- \n",
      " 0   time           30 non-null     object\n",
      " 1   gender         30 non-null     object\n",
      " 2   study_year     30 non-null     object\n",
      " 3   department     30 non-null     object\n",
      " 4   num_of_gadget  30 non-null     int64 \n",
      " 5   recent_grade   30 non-null     object\n",
      " 6   gpa_increase   30 non-null     object\n",
      " 7   mean_hour      30 non-null     object\n",
      " 8   purpose        30 non-null     object\n",
      "dtypes: int64(1), object(8)\n",
      "memory usage: 2.2+ KB\n"
     ]
    }
   ],
   "source": [
    "techno.info()"
   ]
  },
  {
   "cell_type": "code",
   "execution_count": 6,
   "id": "e25092c7",
   "metadata": {},
   "outputs": [],
   "source": [
    "#change object type to datetime series\n",
    "techno['time'] = pd.to_datetime(techno['time'])"
   ]
  },
  {
   "cell_type": "code",
   "execution_count": 7,
   "id": "7e9fde86",
   "metadata": {},
   "outputs": [
    {
     "data": {
      "text/html": [
       "<div>\n",
       "<style scoped>\n",
       "    .dataframe tbody tr th:only-of-type {\n",
       "        vertical-align: middle;\n",
       "    }\n",
       "\n",
       "    .dataframe tbody tr th {\n",
       "        vertical-align: top;\n",
       "    }\n",
       "\n",
       "    .dataframe thead th {\n",
       "        text-align: right;\n",
       "    }\n",
       "</style>\n",
       "<table border=\"1\" class=\"dataframe\">\n",
       "  <thead>\n",
       "    <tr style=\"text-align: right;\">\n",
       "      <th></th>\n",
       "      <th>time</th>\n",
       "      <th>gender</th>\n",
       "      <th>study_year</th>\n",
       "      <th>department</th>\n",
       "      <th>num_of_gadget</th>\n",
       "      <th>recent_grade</th>\n",
       "      <th>gpa_increase</th>\n",
       "      <th>mean_hour</th>\n",
       "      <th>purpose</th>\n",
       "    </tr>\n",
       "  </thead>\n",
       "  <tbody>\n",
       "    <tr>\n",
       "      <th>0</th>\n",
       "      <td>2022-07-19 12:26:34</td>\n",
       "      <td>Female</td>\n",
       "      <td>4</td>\n",
       "      <td>Information Technology</td>\n",
       "      <td>2</td>\n",
       "      <td>3.00-3.49</td>\n",
       "      <td>Increase</td>\n",
       "      <td>4-6</td>\n",
       "      <td>Studies, Entertainment, Phone call</td>\n",
       "    </tr>\n",
       "    <tr>\n",
       "      <th>1</th>\n",
       "      <td>2022-07-21 02:19:26</td>\n",
       "      <td>Male</td>\n",
       "      <td>Post Graduate</td>\n",
       "      <td>Business Management</td>\n",
       "      <td>4</td>\n",
       "      <td>3.00-3.49</td>\n",
       "      <td>decrease</td>\n",
       "      <td>1-3</td>\n",
       "      <td>Studies, Entertainment, Online class, games, M...</td>\n",
       "    </tr>\n",
       "    <tr>\n",
       "      <th>2</th>\n",
       "      <td>2022-07-21 18:55:02</td>\n",
       "      <td>Male</td>\n",
       "      <td>3</td>\n",
       "      <td>Information Technology</td>\n",
       "      <td>3</td>\n",
       "      <td>3.50 - 3.99</td>\n",
       "      <td>Increase</td>\n",
       "      <td>4-6</td>\n",
       "      <td>Studies, Entertainment, Online class, Phone call</td>\n",
       "    </tr>\n",
       "    <tr>\n",
       "      <th>3</th>\n",
       "      <td>2022-08-22 10:01:30</td>\n",
       "      <td>Female</td>\n",
       "      <td>3</td>\n",
       "      <td>Engineering</td>\n",
       "      <td>3</td>\n",
       "      <td>2.50-2.99</td>\n",
       "      <td>decrease</td>\n",
       "      <td>1-3</td>\n",
       "      <td>Studies, Entertainment, Online class, games, M...</td>\n",
       "    </tr>\n",
       "    <tr>\n",
       "      <th>4</th>\n",
       "      <td>2022-08-22 10:02:05</td>\n",
       "      <td>Male</td>\n",
       "      <td>2</td>\n",
       "      <td>Architecture &amp; Built Environment</td>\n",
       "      <td>2</td>\n",
       "      <td>3.00-3.49</td>\n",
       "      <td>Increase</td>\n",
       "      <td>4-6</td>\n",
       "      <td>Studies, Entertainment</td>\n",
       "    </tr>\n",
       "  </tbody>\n",
       "</table>\n",
       "</div>"
      ],
      "text/plain": [
       "                 time  gender     study_year  \\\n",
       "0 2022-07-19 12:26:34  Female              4   \n",
       "1 2022-07-21 02:19:26    Male  Post Graduate   \n",
       "2 2022-07-21 18:55:02    Male              3   \n",
       "3 2022-08-22 10:01:30  Female              3   \n",
       "4 2022-08-22 10:02:05    Male              2   \n",
       "\n",
       "                         department  num_of_gadget recent_grade gpa_increase  \\\n",
       "0            Information Technology              2    3.00-3.49     Increase   \n",
       "1               Business Management              4    3.00-3.49     decrease   \n",
       "2            Information Technology              3  3.50 - 3.99     Increase   \n",
       "3                       Engineering              3    2.50-2.99     decrease   \n",
       "4  Architecture & Built Environment              2    3.00-3.49     Increase   \n",
       "\n",
       "  mean_hour                                            purpose  \n",
       "0       4-6                 Studies, Entertainment, Phone call  \n",
       "1       1-3  Studies, Entertainment, Online class, games, M...  \n",
       "2       4-6   Studies, Entertainment, Online class, Phone call  \n",
       "3       1-3  Studies, Entertainment, Online class, games, M...  \n",
       "4       4-6                             Studies, Entertainment  "
      ]
     },
     "execution_count": 7,
     "metadata": {},
     "output_type": "execute_result"
    }
   ],
   "source": [
    "techno.head()"
   ]
  },
  {
   "cell_type": "code",
   "execution_count": 8,
   "id": "0fa0ef3d",
   "metadata": {},
   "outputs": [],
   "source": [
    "techno['daily_hour'] = (techno['mean_hour'].str.split('-',\n",
    "                                                      expand = True)[0].astype(int) +\n",
    "                        techno['mean_hour'].str.split('-',\n",
    "                        expand = True)[1].astype(int))/2"
   ]
  },
  {
   "cell_type": "code",
   "execution_count": 9,
   "id": "e8204b08",
   "metadata": {},
   "outputs": [
    {
     "data": {
      "text/html": [
       "<div>\n",
       "<style scoped>\n",
       "    .dataframe tbody tr th:only-of-type {\n",
       "        vertical-align: middle;\n",
       "    }\n",
       "\n",
       "    .dataframe tbody tr th {\n",
       "        vertical-align: top;\n",
       "    }\n",
       "\n",
       "    .dataframe thead th {\n",
       "        text-align: right;\n",
       "    }\n",
       "</style>\n",
       "<table border=\"1\" class=\"dataframe\">\n",
       "  <thead>\n",
       "    <tr style=\"text-align: right;\">\n",
       "      <th></th>\n",
       "      <th>time</th>\n",
       "      <th>gender</th>\n",
       "      <th>study_year</th>\n",
       "      <th>department</th>\n",
       "      <th>num_of_gadget</th>\n",
       "      <th>recent_grade</th>\n",
       "      <th>gpa_increase</th>\n",
       "      <th>mean_hour</th>\n",
       "      <th>purpose</th>\n",
       "      <th>daily_hour</th>\n",
       "    </tr>\n",
       "  </thead>\n",
       "  <tbody>\n",
       "    <tr>\n",
       "      <th>0</th>\n",
       "      <td>2022-07-19 12:26:34</td>\n",
       "      <td>Female</td>\n",
       "      <td>4</td>\n",
       "      <td>Information Technology</td>\n",
       "      <td>2</td>\n",
       "      <td>3.00-3.49</td>\n",
       "      <td>Increase</td>\n",
       "      <td>4-6</td>\n",
       "      <td>Studies, Entertainment, Phone call</td>\n",
       "      <td>5.0</td>\n",
       "    </tr>\n",
       "    <tr>\n",
       "      <th>1</th>\n",
       "      <td>2022-07-21 02:19:26</td>\n",
       "      <td>Male</td>\n",
       "      <td>Post Graduate</td>\n",
       "      <td>Business Management</td>\n",
       "      <td>4</td>\n",
       "      <td>3.00-3.49</td>\n",
       "      <td>decrease</td>\n",
       "      <td>1-3</td>\n",
       "      <td>Studies, Entertainment, Online class, games, M...</td>\n",
       "      <td>2.0</td>\n",
       "    </tr>\n",
       "    <tr>\n",
       "      <th>2</th>\n",
       "      <td>2022-07-21 18:55:02</td>\n",
       "      <td>Male</td>\n",
       "      <td>3</td>\n",
       "      <td>Information Technology</td>\n",
       "      <td>3</td>\n",
       "      <td>3.50 - 3.99</td>\n",
       "      <td>Increase</td>\n",
       "      <td>4-6</td>\n",
       "      <td>Studies, Entertainment, Online class, Phone call</td>\n",
       "      <td>5.0</td>\n",
       "    </tr>\n",
       "    <tr>\n",
       "      <th>3</th>\n",
       "      <td>2022-08-22 10:01:30</td>\n",
       "      <td>Female</td>\n",
       "      <td>3</td>\n",
       "      <td>Engineering</td>\n",
       "      <td>3</td>\n",
       "      <td>2.50-2.99</td>\n",
       "      <td>decrease</td>\n",
       "      <td>1-3</td>\n",
       "      <td>Studies, Entertainment, Online class, games, M...</td>\n",
       "      <td>2.0</td>\n",
       "    </tr>\n",
       "    <tr>\n",
       "      <th>4</th>\n",
       "      <td>2022-08-22 10:02:05</td>\n",
       "      <td>Male</td>\n",
       "      <td>2</td>\n",
       "      <td>Architecture &amp; Built Environment</td>\n",
       "      <td>2</td>\n",
       "      <td>3.00-3.49</td>\n",
       "      <td>Increase</td>\n",
       "      <td>4-6</td>\n",
       "      <td>Studies, Entertainment</td>\n",
       "      <td>5.0</td>\n",
       "    </tr>\n",
       "  </tbody>\n",
       "</table>\n",
       "</div>"
      ],
      "text/plain": [
       "                 time  gender     study_year  \\\n",
       "0 2022-07-19 12:26:34  Female              4   \n",
       "1 2022-07-21 02:19:26    Male  Post Graduate   \n",
       "2 2022-07-21 18:55:02    Male              3   \n",
       "3 2022-08-22 10:01:30  Female              3   \n",
       "4 2022-08-22 10:02:05    Male              2   \n",
       "\n",
       "                         department  num_of_gadget recent_grade gpa_increase  \\\n",
       "0            Information Technology              2    3.00-3.49     Increase   \n",
       "1               Business Management              4    3.00-3.49     decrease   \n",
       "2            Information Technology              3  3.50 - 3.99     Increase   \n",
       "3                       Engineering              3    2.50-2.99     decrease   \n",
       "4  Architecture & Built Environment              2    3.00-3.49     Increase   \n",
       "\n",
       "  mean_hour                                            purpose  daily_hour  \n",
       "0       4-6                 Studies, Entertainment, Phone call         5.0  \n",
       "1       1-3  Studies, Entertainment, Online class, games, M...         2.0  \n",
       "2       4-6   Studies, Entertainment, Online class, Phone call         5.0  \n",
       "3       1-3  Studies, Entertainment, Online class, games, M...         2.0  \n",
       "4       4-6                             Studies, Entertainment         5.0  "
      ]
     },
     "execution_count": 9,
     "metadata": {},
     "output_type": "execute_result"
    }
   ],
   "source": [
    "techno.head()"
   ]
  },
  {
   "cell_type": "code",
   "execution_count": 13,
   "id": "94a68d71",
   "metadata": {},
   "outputs": [
    {
     "data": {
      "image/png": "[encoded data removed]",
      "text/plain": [
       "<Figure size 1224x576 with 1 Axes>"
      ]
     },
     "metadata": {
      "needs_background": "light"
     },
     "output_type": "display_data"
    }
   ],
   "source": [
    "pd.pivot_table(techno, index = 'gender', columns = 'gpa_increase',\n",
    "               values = 'daily_hour', aggfunc = 'mean').plot(kind = 'barh', figsize = (17,8));\n",
    "plt.xlabel('Daily average hours spent on gadgets', fontsize = 14, labelpad = 13)\n",
    "plt.grid()"
   ]
  },
  {
   "cell_type": "code",
   "execution_count": null,
   "id": "af310977",
   "metadata": {},
   "outputs": [],
   "source": []
  },
  {
   "cell_type": "code",
   "execution_count": 14,
   "id": "d447e223",
   "metadata": {},
   "outputs": [],
   "source": [
    "purpose_freq = techno['purpose'].str.split(',', expand = True).stack().value_counts()"
   ]
  },
  {
   "cell_type": "code",
   "execution_count": 15,
   "id": "0b581d03",
   "metadata": {},
   "outputs": [
    {
     "data": {
      "text/plain": [
       "Studies           29\n",
       " Entertainment    25\n",
       " Phone call       23\n",
       " Online class     20\n",
       " Movies           11\n",
       " games             9\n",
       "Online class       1\n",
       "dtype: int64"
      ]
     },
     "execution_count": 15,
     "metadata": {},
     "output_type": "execute_result"
    }
   ],
   "source": [
    "# let's say we have a series or list\n",
    "purpose_freq \n",
    "# so you can see studies count is 29,\n",
    "# entertainment is 25..."
   ]
  },
  {
   "cell_type": "code",
   "execution_count": 16,
   "id": "d1f4672e",
   "metadata": {},
   "outputs": [],
   "source": [
    "# so we want to create a pie chart\n",
    "# we need matplotlib\n",
    "import matplotlib.pyplot as plt"
   ]
  },
  {
   "cell_type": "code",
   "execution_count": 17,
   "id": "f0493c7c",
   "metadata": {},
   "outputs": [
    {
     "data": {
      "image/png": "[encoded data removed]",
      "text/plain": [
       "<Figure size 720x720 with 1 Axes>"
      ]
     },
     "metadata": {},
     "output_type": "display_data"
    }
   ],
   "source": [
    "plt.figure(figsize = (10,10)) # adjusting the size \n",
    "plt.pie(purpose_freq); # simple pie chart\n",
    "# but we can add some parameters to give more insight"
   ]
  },
  {
   "cell_type": "code",
   "execution_count": 18,
   "id": "8cdd9866",
   "metadata": {},
   "outputs": [
    {
     "data": {
      "image/png": "[encoded data removed]",
      "text/plain": [
       "<Figure size 864x864 with 1 Axes>"
      ]
     },
     "metadata": {},
     "output_type": "display_data"
    }
   ],
   "source": [
    "plt.figure(figsize = (12,12)) # adjusting the size \n",
    "plt.pie(purpose_freq, autopct='%.2f',# gives relative value\n",
    "        explode = (0.07,0.05,0.05,0.01,0.01,0.01,0.01), # to seperate parts\n",
    "        labels = purpose_freq.index # assignes the labels\n",
    "       );"
   ]
  },
  {
   "cell_type": "code",
   "execution_count": null,
   "id": "3bf646b7",
   "metadata": {},
   "outputs": [],
   "source": [
    "# So most of the survvey participants chose Studies as the reason of using gadgets\n",
    "# The next position goes to Entertainment.\n",
    "# Surprisingly, Online class is the choice that have least votes, \n",
    "# maybe because students include this when they chose Studies"
   ]
  },
  {
   "cell_type": "code",
   "execution_count": 20,
   "id": "98792f00",
   "metadata": {},
   "outputs": [
    {
     "data": {
      "image/png": "[encoded data removed]",
      "text/plain": [
       "<Figure size 360x360 with 1 Axes>"
      ]
     },
     "metadata": {
      "needs_background": "light"
     },
     "output_type": "display_data"
    }
   ],
   "source": [
    "sns.displot(data = techno, x = 'num_of_gadget', bins  = [0,1,2,3,4,5,6], kde = True);"
   ]
  },
  {
   "cell_type": "code",
   "execution_count": 21,
   "id": "d6ea455e",
   "metadata": {
    "scrolled": false
   },
   "outputs": [
    {
     "data": {
      "text/plain": [
       "Text(0, 0.5, 'Daily hours spent on gadgets')"
      ]
     },
     "execution_count": 21,
     "metadata": {},
     "output_type": "execute_result"
    },
    {
     "data": {
      "image/png": "[encoded data removed]",
      "text/plain": [
       "<Figure size 1008x504 with 1 Axes>"
      ]
     },
     "metadata": {
      "needs_background": "light"
     },
     "output_type": "display_data"
    }
   ],
   "source": [
    "pd.pivot_table(techno, index = 'study_year', columns = 'gender', values = ['daily_hour']).plot(kind = 'bar', figsize = (14,7))\n",
    "plt.ylabel('Daily hours spent on gadgets')"
   ]
  },
  {
   "cell_type": "code",
   "execution_count": null,
   "id": "8a0599d4",
   "metadata": {},
   "outputs": [],
   "source": [
    "# So for the first year of study and advanced study years, \n",
    "# females tend to spend more time on gadgets while males during 2-4 years"
   ]
  },
  {
   "cell_type": "code",
   "execution_count": 22,
   "id": "147b017a",
   "metadata": {},
   "outputs": [
    {
     "data": {
      "text/html": [
       "<div>\n",
       "<style scoped>\n",
       "    .dataframe tbody tr th:only-of-type {\n",
       "        vertical-align: middle;\n",
       "    }\n",
       "\n",
       "    .dataframe tbody tr th {\n",
       "        vertical-align: top;\n",
       "    }\n",
       "\n",
       "    .dataframe thead th {\n",
       "        text-align: right;\n",
       "    }\n",
       "</style>\n",
       "<table border=\"1\" class=\"dataframe\">\n",
       "  <thead>\n",
       "    <tr style=\"text-align: right;\">\n",
       "      <th></th>\n",
       "      <th>num_of_gadget</th>\n",
       "    </tr>\n",
       "    <tr>\n",
       "      <th>department</th>\n",
       "      <th></th>\n",
       "    </tr>\n",
       "  </thead>\n",
       "  <tbody>\n",
       "    <tr>\n",
       "      <th>Business Management</th>\n",
       "      <td>3.0</td>\n",
       "    </tr>\n",
       "    <tr>\n",
       "      <th>Creative Industries</th>\n",
       "      <td>3.0</td>\n",
       "    </tr>\n",
       "    <tr>\n",
       "      <th>Information Technology</th>\n",
       "      <td>3.0</td>\n",
       "    </tr>\n",
       "    <tr>\n",
       "      <th>Allied Health Sciences</th>\n",
       "      <td>2.0</td>\n",
       "    </tr>\n",
       "    <tr>\n",
       "      <th>Architecture &amp; Built Environment</th>\n",
       "      <td>2.0</td>\n",
       "    </tr>\n",
       "    <tr>\n",
       "      <th>Education &amp; Liberal Studies</th>\n",
       "      <td>2.0</td>\n",
       "    </tr>\n",
       "    <tr>\n",
       "      <th>Engineering</th>\n",
       "      <td>2.0</td>\n",
       "    </tr>\n",
       "    <tr>\n",
       "      <th>Hospitality &amp; Tourism</th>\n",
       "      <td>2.0</td>\n",
       "    </tr>\n",
       "  </tbody>\n",
       "</table>\n",
       "</div>"
      ],
      "text/plain": [
       "                                  num_of_gadget\n",
       "department                                     \n",
       "Business Management                         3.0\n",
       "Creative Industries                         3.0\n",
       "Information Technology                      3.0\n",
       "Allied Health Sciences                      2.0\n",
       "Architecture & Built Environment            2.0\n",
       "Education & Liberal Studies                 2.0\n",
       "Engineering                                 2.0\n",
       "Hospitality & Tourism                       2.0"
      ]
     },
     "execution_count": 22,
     "metadata": {},
     "output_type": "execute_result"
    }
   ],
   "source": [
    "techno[['department', \n",
    "        'num_of_gadget']].groupby('department').mean().round().sort_values('num_of_gadget', \n",
    "                                                                                         ascending = False)"
   ]
  },
  {
   "cell_type": "code",
   "execution_count": 24,
   "id": "7b4e643f",
   "metadata": {},
   "outputs": [
    {
     "data": {
      "text/html": [
       "<div>\n",
       "<style scoped>\n",
       "    .dataframe tbody tr th:only-of-type {\n",
       "        vertical-align: middle;\n",
       "    }\n",
       "\n",
       "    .dataframe tbody tr th {\n",
       "        vertical-align: top;\n",
       "    }\n",
       "\n",
       "    .dataframe thead th {\n",
       "        text-align: right;\n",
       "    }\n",
       "</style>\n",
       "<table border=\"1\" class=\"dataframe\">\n",
       "  <thead>\n",
       "    <tr style=\"text-align: right;\">\n",
       "      <th></th>\n",
       "      <th>time</th>\n",
       "      <th>gender</th>\n",
       "      <th>study_year</th>\n",
       "      <th>department</th>\n",
       "      <th>num_of_gadget</th>\n",
       "      <th>recent_grade</th>\n",
       "      <th>gpa_increase</th>\n",
       "      <th>mean_hour</th>\n",
       "      <th>purpose</th>\n",
       "      <th>daily_hour</th>\n",
       "    </tr>\n",
       "  </thead>\n",
       "  <tbody>\n",
       "    <tr>\n",
       "      <th>0</th>\n",
       "      <td>2022-07-19 12:26:34</td>\n",
       "      <td>Female</td>\n",
       "      <td>4</td>\n",
       "      <td>Information Technology</td>\n",
       "      <td>2</td>\n",
       "      <td>3.00-3.49</td>\n",
       "      <td>Increase</td>\n",
       "      <td>4-6</td>\n",
       "      <td>Studies, Entertainment, Phone call</td>\n",
       "      <td>5.0</td>\n",
       "    </tr>\n",
       "    <tr>\n",
       "      <th>1</th>\n",
       "      <td>2022-07-21 02:19:26</td>\n",
       "      <td>Male</td>\n",
       "      <td>Post Graduate</td>\n",
       "      <td>Business Management</td>\n",
       "      <td>4</td>\n",
       "      <td>3.00-3.49</td>\n",
       "      <td>decrease</td>\n",
       "      <td>1-3</td>\n",
       "      <td>Studies, Entertainment, Online class, games, M...</td>\n",
       "      <td>2.0</td>\n",
       "    </tr>\n",
       "    <tr>\n",
       "      <th>2</th>\n",
       "      <td>2022-07-21 18:55:02</td>\n",
       "      <td>Male</td>\n",
       "      <td>3</td>\n",
       "      <td>Information Technology</td>\n",
       "      <td>3</td>\n",
       "      <td>3.50 - 3.99</td>\n",
       "      <td>Increase</td>\n",
       "      <td>4-6</td>\n",
       "      <td>Studies, Entertainment, Online class, Phone call</td>\n",
       "      <td>5.0</td>\n",
       "    </tr>\n",
       "    <tr>\n",
       "      <th>3</th>\n",
       "      <td>2022-08-22 10:01:30</td>\n",
       "      <td>Female</td>\n",
       "      <td>3</td>\n",
       "      <td>Engineering</td>\n",
       "      <td>3</td>\n",
       "      <td>2.50-2.99</td>\n",
       "      <td>decrease</td>\n",
       "      <td>1-3</td>\n",
       "      <td>Studies, Entertainment, Online class, games, M...</td>\n",
       "      <td>2.0</td>\n",
       "    </tr>\n",
       "    <tr>\n",
       "      <th>4</th>\n",
       "      <td>2022-08-22 10:02:05</td>\n",
       "      <td>Male</td>\n",
       "      <td>2</td>\n",
       "      <td>Architecture &amp; Built Environment</td>\n",
       "      <td>2</td>\n",
       "      <td>3.00-3.49</td>\n",
       "      <td>Increase</td>\n",
       "      <td>4-6</td>\n",
       "      <td>Studies, Entertainment</td>\n",
       "      <td>5.0</td>\n",
       "    </tr>\n",
       "  </tbody>\n",
       "</table>\n",
       "</div>"
      ],
      "text/plain": [
       "                 time  gender     study_year  \\\n",
       "0 2022-07-19 12:26:34  Female              4   \n",
       "1 2022-07-21 02:19:26    Male  Post Graduate   \n",
       "2 2022-07-21 18:55:02    Male              3   \n",
       "3 2022-08-22 10:01:30  Female              3   \n",
       "4 2022-08-22 10:02:05    Male              2   \n",
       "\n",
       "                         department  num_of_gadget recent_grade gpa_increase  \\\n",
       "0            Information Technology              2    3.00-3.49     Increase   \n",
       "1               Business Management              4    3.00-3.49     decrease   \n",
       "2            Information Technology              3  3.50 - 3.99     Increase   \n",
       "3                       Engineering              3    2.50-2.99     decrease   \n",
       "4  Architecture & Built Environment              2    3.00-3.49     Increase   \n",
       "\n",
       "  mean_hour                                            purpose  daily_hour  \n",
       "0       4-6                 Studies, Entertainment, Phone call         5.0  \n",
       "1       1-3  Studies, Entertainment, Online class, games, M...         2.0  \n",
       "2       4-6   Studies, Entertainment, Online class, Phone call         5.0  \n",
       "3       1-3  Studies, Entertainment, Online class, games, M...         2.0  \n",
       "4       4-6                             Studies, Entertainment         5.0  "
      ]
     },
     "execution_count": 24,
     "metadata": {},
     "output_type": "execute_result"
    }
   ],
   "source": [
    "techno.head()"
   ]
  },
  {
   "cell_type": "code",
   "execution_count": null,
   "id": "d4a241f1",
   "metadata": {},
   "outputs": [],
   "source": [
    "# Business and technology departments tend to own more gadgets than other department students"
   ]
  },
  {
   "cell_type": "code",
   "execution_count": 23,
   "id": "1d75d673",
   "metadata": {},
   "outputs": [
    {
     "data": {
      "image/png": "[encoded data removed]",
      "text/plain": [
       "<Figure size 1080x360 with 1 Axes>"
      ]
     },
     "metadata": {
      "needs_background": "light"
     },
     "output_type": "display_data"
    }
   ],
   "source": [
    "techno.groupby('recent_grade').mean().round().plot(kind = 'barh', figsize = (15,5))\n",
    "plt.grid()"
   ]
  },
  {
   "cell_type": "code",
   "execution_count": null,
   "id": "d2fbed00",
   "metadata": {},
   "outputs": [],
   "source": [
    "# Those who have more gadgets tend to spent more time on those devices, \n",
    "# Also, those people showed lower overall gpa in their studies,\n",
    "# highest grade holders have average two devices and spent 7 hours a day on screen"
   ]
  },
  {
   "cell_type": "code",
   "execution_count": null,
   "id": "7b2f4cd1",
   "metadata": {},
   "outputs": [],
   "source": []
  },
  {
   "cell_type": "code",
   "execution_count": null,
   "id": "6127f6a5",
   "metadata": {},
   "outputs": [],
   "source": [
    "df = techno[['time', 'num_of_gadget']]\n",
    "\n",
    "new_df = df.set_index('time')\n",
    "new_df = new_df.resample('W').sum()\n",
    "new_df['num_of_gadget'] = [9,11,10,14,7,11,9,12,15]\n",
    "\n",
    "new_df\n",
    "# Let's do line graph for the number\n",
    "# of gadgets over time\n",
    "\n",
    "# We need matplotlib\n",
    "import matplotlib.pyplot as plt\n",
    "plt.plot(new_df)"
   ]
  },
  {
   "cell_type": "code",
   "execution_count": null,
   "id": "9d09d4c1",
   "metadata": {},
   "outputs": [],
   "source": [
    "# we can make it more insightfull\n",
    "\n",
    "plt.figure(figsize = (10,9)) # size adjustment\n",
    "plt.plot(new_df); #plotting\n",
    "plt.xticks(rotation = 50); # rotating x ticks to 50C \n",
    "plt.ylabel('Number of gadgets', labelpad = 20) # assigning y - label\n",
    "plt.xlabel('Date', labelpad = 20)\n",
    "plt.grid()"
   ]
  },
  {
   "cell_type": "code",
   "execution_count": null,
   "id": "86653874",
   "metadata": {},
   "outputs": [],
   "source": []
  }
 ],
 "metadata": {
  "kernelspec": {
   "display_name": "Python 3 (ipykernel)",
   "language": "python",
   "name": "python3"
  },
  "language_info": {
   "codemirror_mode": {
    "name": "ipython",
    "version": 3
   },
   "file_extension": ".py",
   "mimetype": "text/x-python",
   "name": "python",
   "nbconvert_exporter": "python",
   "pygments_lexer": "ipython3",
   "version": "3.9.7"
  }
 },
 "nbformat": 4,
 "nbformat_minor": 5
}
